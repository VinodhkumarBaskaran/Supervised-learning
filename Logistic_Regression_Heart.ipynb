{
  "nbformat": 4,
  "nbformat_minor": 0,
  "metadata": {
    "colab": {
      "name": "Logistic_Regression_Heart.ipynb",
      "version": "0.3.2",
      "provenance": [],
      "collapsed_sections": [],
      "toc_visible": true
    },
    "kernelspec": {
      "name": "python3",
      "display_name": "Python 3"
    }
  },
  "cells": [
    {
      "metadata": {
        "id": "jTdT2-LTdMK_",
        "colab_type": "text"
      },
      "cell_type": "markdown",
      "source": [
        "# Heart Data Set\n",
        "#### Logistic Regression"
      ]
    },
    {
      "metadata": {
        "id": "fum0IurGdGa-",
        "colab_type": "code",
        "colab": {}
      },
      "cell_type": "code",
      "source": [
        "import pandas as pd\n",
        "import numpy as np\n",
        "from sklearn.linear_model import LogisticRegression"
      ],
      "execution_count": 0,
      "outputs": []
    },
    {
      "metadata": {
        "id": "iPnmwqfqd2aZ",
        "colab_type": "code",
        "colab": {}
      },
      "cell_type": "code",
      "source": [
        "data=pd.read_csv('Heart.csv',index_col=0)"
      ],
      "execution_count": 0,
      "outputs": []
    },
    {
      "metadata": {
        "id": "GnLPeDoWd7Z9",
        "colab_type": "code",
        "colab": {
          "base_uri": "https://localhost:8080/",
          "height": 204
        },
        "outputId": "8169e9b9-8cd5-4b53-f3a9-9d378fef44dc"
      },
      "cell_type": "code",
      "source": [
        "data.head()"
      ],
      "execution_count": 79,
      "outputs": [
        {
          "output_type": "execute_result",
          "data": {
            "text/html": [
              "<div>\n",
              "<style scoped>\n",
              "    .dataframe tbody tr th:only-of-type {\n",
              "        vertical-align: middle;\n",
              "    }\n",
              "\n",
              "    .dataframe tbody tr th {\n",
              "        vertical-align: top;\n",
              "    }\n",
              "\n",
              "    .dataframe thead th {\n",
              "        text-align: right;\n",
              "    }\n",
              "</style>\n",
              "<table border=\"1\" class=\"dataframe\">\n",
              "  <thead>\n",
              "    <tr style=\"text-align: right;\">\n",
              "      <th></th>\n",
              "      <th>Age</th>\n",
              "      <th>Sex</th>\n",
              "      <th>ChestPain</th>\n",
              "      <th>RestBP</th>\n",
              "      <th>Chol</th>\n",
              "      <th>Fbs</th>\n",
              "      <th>RestECG</th>\n",
              "      <th>MaxHR</th>\n",
              "      <th>ExAng</th>\n",
              "      <th>Oldpeak</th>\n",
              "      <th>Slope</th>\n",
              "      <th>Ca</th>\n",
              "      <th>Thal</th>\n",
              "      <th>AHD</th>\n",
              "    </tr>\n",
              "  </thead>\n",
              "  <tbody>\n",
              "    <tr>\n",
              "      <th>1</th>\n",
              "      <td>63</td>\n",
              "      <td>1</td>\n",
              "      <td>typical</td>\n",
              "      <td>145</td>\n",
              "      <td>233</td>\n",
              "      <td>1</td>\n",
              "      <td>2</td>\n",
              "      <td>150</td>\n",
              "      <td>0</td>\n",
              "      <td>2.3</td>\n",
              "      <td>3</td>\n",
              "      <td>0.0</td>\n",
              "      <td>fixed</td>\n",
              "      <td>No</td>\n",
              "    </tr>\n",
              "    <tr>\n",
              "      <th>2</th>\n",
              "      <td>67</td>\n",
              "      <td>1</td>\n",
              "      <td>asymptomatic</td>\n",
              "      <td>160</td>\n",
              "      <td>286</td>\n",
              "      <td>0</td>\n",
              "      <td>2</td>\n",
              "      <td>108</td>\n",
              "      <td>1</td>\n",
              "      <td>1.5</td>\n",
              "      <td>2</td>\n",
              "      <td>3.0</td>\n",
              "      <td>normal</td>\n",
              "      <td>Yes</td>\n",
              "    </tr>\n",
              "    <tr>\n",
              "      <th>3</th>\n",
              "      <td>67</td>\n",
              "      <td>1</td>\n",
              "      <td>asymptomatic</td>\n",
              "      <td>120</td>\n",
              "      <td>229</td>\n",
              "      <td>0</td>\n",
              "      <td>2</td>\n",
              "      <td>129</td>\n",
              "      <td>1</td>\n",
              "      <td>2.6</td>\n",
              "      <td>2</td>\n",
              "      <td>2.0</td>\n",
              "      <td>reversable</td>\n",
              "      <td>Yes</td>\n",
              "    </tr>\n",
              "    <tr>\n",
              "      <th>4</th>\n",
              "      <td>37</td>\n",
              "      <td>1</td>\n",
              "      <td>nonanginal</td>\n",
              "      <td>130</td>\n",
              "      <td>250</td>\n",
              "      <td>0</td>\n",
              "      <td>0</td>\n",
              "      <td>187</td>\n",
              "      <td>0</td>\n",
              "      <td>3.5</td>\n",
              "      <td>3</td>\n",
              "      <td>0.0</td>\n",
              "      <td>normal</td>\n",
              "      <td>No</td>\n",
              "    </tr>\n",
              "    <tr>\n",
              "      <th>5</th>\n",
              "      <td>41</td>\n",
              "      <td>0</td>\n",
              "      <td>nontypical</td>\n",
              "      <td>130</td>\n",
              "      <td>204</td>\n",
              "      <td>0</td>\n",
              "      <td>2</td>\n",
              "      <td>172</td>\n",
              "      <td>0</td>\n",
              "      <td>1.4</td>\n",
              "      <td>1</td>\n",
              "      <td>0.0</td>\n",
              "      <td>normal</td>\n",
              "      <td>No</td>\n",
              "    </tr>\n",
              "  </tbody>\n",
              "</table>\n",
              "</div>"
            ],
            "text/plain": [
              "   Age  Sex     ChestPain  RestBP  Chol  Fbs  RestECG  MaxHR  ExAng  Oldpeak  \\\n",
              "1   63    1       typical     145   233    1        2    150      0      2.3   \n",
              "2   67    1  asymptomatic     160   286    0        2    108      1      1.5   \n",
              "3   67    1  asymptomatic     120   229    0        2    129      1      2.6   \n",
              "4   37    1    nonanginal     130   250    0        0    187      0      3.5   \n",
              "5   41    0    nontypical     130   204    0        2    172      0      1.4   \n",
              "\n",
              "   Slope   Ca        Thal  AHD  \n",
              "1      3  0.0       fixed   No  \n",
              "2      2  3.0      normal  Yes  \n",
              "3      2  2.0  reversable  Yes  \n",
              "4      3  0.0      normal   No  \n",
              "5      1  0.0      normal   No  "
            ]
          },
          "metadata": {
            "tags": []
          },
          "execution_count": 79
        }
      ]
    },
    {
      "metadata": {
        "id": "O2zR34rPnpL7",
        "colab_type": "code",
        "colab": {
          "base_uri": "https://localhost:8080/",
          "height": 272
        },
        "outputId": "6a8e8429-582c-4391-fa1b-92152c74e027"
      },
      "cell_type": "code",
      "source": [
        "data.dtypes"
      ],
      "execution_count": 80,
      "outputs": [
        {
          "output_type": "execute_result",
          "data": {
            "text/plain": [
              "Age            int64\n",
              "Sex            int64\n",
              "ChestPain     object\n",
              "RestBP         int64\n",
              "Chol           int64\n",
              "Fbs            int64\n",
              "RestECG        int64\n",
              "MaxHR          int64\n",
              "ExAng          int64\n",
              "Oldpeak      float64\n",
              "Slope          int64\n",
              "Ca           float64\n",
              "Thal          object\n",
              "AHD           object\n",
              "dtype: object"
            ]
          },
          "metadata": {
            "tags": []
          },
          "execution_count": 80
        }
      ]
    },
    {
      "metadata": {
        "id": "75iLxEjbgcBR",
        "colab_type": "text"
      },
      "cell_type": "markdown",
      "source": [
        "## Data Preprocessing"
      ]
    },
    {
      "metadata": {
        "id": "93K6T5lMeD76",
        "colab_type": "code",
        "colab": {}
      },
      "cell_type": "code",
      "source": [
        "data['AHD'].replace(['No','Yes'],[1,0],inplace=True)\n",
        "    "
      ],
      "execution_count": 0,
      "outputs": []
    },
    {
      "metadata": {
        "id": "nWF3nB35gM2V",
        "colab_type": "code",
        "colab": {
          "base_uri": "https://localhost:8080/",
          "height": 204
        },
        "outputId": "bfb373f1-aca6-43ed-8bf6-5c7500d596a5"
      },
      "cell_type": "code",
      "source": [
        "data.head()"
      ],
      "execution_count": 82,
      "outputs": [
        {
          "output_type": "execute_result",
          "data": {
            "text/html": [
              "<div>\n",
              "<style scoped>\n",
              "    .dataframe tbody tr th:only-of-type {\n",
              "        vertical-align: middle;\n",
              "    }\n",
              "\n",
              "    .dataframe tbody tr th {\n",
              "        vertical-align: top;\n",
              "    }\n",
              "\n",
              "    .dataframe thead th {\n",
              "        text-align: right;\n",
              "    }\n",
              "</style>\n",
              "<table border=\"1\" class=\"dataframe\">\n",
              "  <thead>\n",
              "    <tr style=\"text-align: right;\">\n",
              "      <th></th>\n",
              "      <th>Age</th>\n",
              "      <th>Sex</th>\n",
              "      <th>ChestPain</th>\n",
              "      <th>RestBP</th>\n",
              "      <th>Chol</th>\n",
              "      <th>Fbs</th>\n",
              "      <th>RestECG</th>\n",
              "      <th>MaxHR</th>\n",
              "      <th>ExAng</th>\n",
              "      <th>Oldpeak</th>\n",
              "      <th>Slope</th>\n",
              "      <th>Ca</th>\n",
              "      <th>Thal</th>\n",
              "      <th>AHD</th>\n",
              "    </tr>\n",
              "  </thead>\n",
              "  <tbody>\n",
              "    <tr>\n",
              "      <th>1</th>\n",
              "      <td>63</td>\n",
              "      <td>1</td>\n",
              "      <td>typical</td>\n",
              "      <td>145</td>\n",
              "      <td>233</td>\n",
              "      <td>1</td>\n",
              "      <td>2</td>\n",
              "      <td>150</td>\n",
              "      <td>0</td>\n",
              "      <td>2.3</td>\n",
              "      <td>3</td>\n",
              "      <td>0.0</td>\n",
              "      <td>fixed</td>\n",
              "      <td>1</td>\n",
              "    </tr>\n",
              "    <tr>\n",
              "      <th>2</th>\n",
              "      <td>67</td>\n",
              "      <td>1</td>\n",
              "      <td>asymptomatic</td>\n",
              "      <td>160</td>\n",
              "      <td>286</td>\n",
              "      <td>0</td>\n",
              "      <td>2</td>\n",
              "      <td>108</td>\n",
              "      <td>1</td>\n",
              "      <td>1.5</td>\n",
              "      <td>2</td>\n",
              "      <td>3.0</td>\n",
              "      <td>normal</td>\n",
              "      <td>0</td>\n",
              "    </tr>\n",
              "    <tr>\n",
              "      <th>3</th>\n",
              "      <td>67</td>\n",
              "      <td>1</td>\n",
              "      <td>asymptomatic</td>\n",
              "      <td>120</td>\n",
              "      <td>229</td>\n",
              "      <td>0</td>\n",
              "      <td>2</td>\n",
              "      <td>129</td>\n",
              "      <td>1</td>\n",
              "      <td>2.6</td>\n",
              "      <td>2</td>\n",
              "      <td>2.0</td>\n",
              "      <td>reversable</td>\n",
              "      <td>0</td>\n",
              "    </tr>\n",
              "    <tr>\n",
              "      <th>4</th>\n",
              "      <td>37</td>\n",
              "      <td>1</td>\n",
              "      <td>nonanginal</td>\n",
              "      <td>130</td>\n",
              "      <td>250</td>\n",
              "      <td>0</td>\n",
              "      <td>0</td>\n",
              "      <td>187</td>\n",
              "      <td>0</td>\n",
              "      <td>3.5</td>\n",
              "      <td>3</td>\n",
              "      <td>0.0</td>\n",
              "      <td>normal</td>\n",
              "      <td>1</td>\n",
              "    </tr>\n",
              "    <tr>\n",
              "      <th>5</th>\n",
              "      <td>41</td>\n",
              "      <td>0</td>\n",
              "      <td>nontypical</td>\n",
              "      <td>130</td>\n",
              "      <td>204</td>\n",
              "      <td>0</td>\n",
              "      <td>2</td>\n",
              "      <td>172</td>\n",
              "      <td>0</td>\n",
              "      <td>1.4</td>\n",
              "      <td>1</td>\n",
              "      <td>0.0</td>\n",
              "      <td>normal</td>\n",
              "      <td>1</td>\n",
              "    </tr>\n",
              "  </tbody>\n",
              "</table>\n",
              "</div>"
            ],
            "text/plain": [
              "   Age  Sex     ChestPain  RestBP  Chol  Fbs  RestECG  MaxHR  ExAng  Oldpeak  \\\n",
              "1   63    1       typical     145   233    1        2    150      0      2.3   \n",
              "2   67    1  asymptomatic     160   286    0        2    108      1      1.5   \n",
              "3   67    1  asymptomatic     120   229    0        2    129      1      2.6   \n",
              "4   37    1    nonanginal     130   250    0        0    187      0      3.5   \n",
              "5   41    0    nontypical     130   204    0        2    172      0      1.4   \n",
              "\n",
              "   Slope   Ca        Thal  AHD  \n",
              "1      3  0.0       fixed    1  \n",
              "2      2  3.0      normal    0  \n",
              "3      2  2.0  reversable    0  \n",
              "4      3  0.0      normal    1  \n",
              "5      1  0.0      normal    1  "
            ]
          },
          "metadata": {
            "tags": []
          },
          "execution_count": 82
        }
      ]
    },
    {
      "metadata": {
        "id": "70B5Z9DIlOtV",
        "colab_type": "code",
        "colab": {
          "base_uri": "https://localhost:8080/",
          "height": 317
        },
        "outputId": "7600de09-c2a5-47bb-8a1b-397d70d61d30"
      },
      "cell_type": "code",
      "source": [
        "data.describe()"
      ],
      "execution_count": 83,
      "outputs": [
        {
          "output_type": "execute_result",
          "data": {
            "text/html": [
              "<div>\n",
              "<style scoped>\n",
              "    .dataframe tbody tr th:only-of-type {\n",
              "        vertical-align: middle;\n",
              "    }\n",
              "\n",
              "    .dataframe tbody tr th {\n",
              "        vertical-align: top;\n",
              "    }\n",
              "\n",
              "    .dataframe thead th {\n",
              "        text-align: right;\n",
              "    }\n",
              "</style>\n",
              "<table border=\"1\" class=\"dataframe\">\n",
              "  <thead>\n",
              "    <tr style=\"text-align: right;\">\n",
              "      <th></th>\n",
              "      <th>Age</th>\n",
              "      <th>Sex</th>\n",
              "      <th>RestBP</th>\n",
              "      <th>Chol</th>\n",
              "      <th>Fbs</th>\n",
              "      <th>RestECG</th>\n",
              "      <th>MaxHR</th>\n",
              "      <th>ExAng</th>\n",
              "      <th>Oldpeak</th>\n",
              "      <th>Slope</th>\n",
              "      <th>Ca</th>\n",
              "      <th>AHD</th>\n",
              "    </tr>\n",
              "  </thead>\n",
              "  <tbody>\n",
              "    <tr>\n",
              "      <th>count</th>\n",
              "      <td>303.000000</td>\n",
              "      <td>303.000000</td>\n",
              "      <td>303.000000</td>\n",
              "      <td>303.000000</td>\n",
              "      <td>303.000000</td>\n",
              "      <td>303.000000</td>\n",
              "      <td>303.000000</td>\n",
              "      <td>303.000000</td>\n",
              "      <td>303.000000</td>\n",
              "      <td>303.000000</td>\n",
              "      <td>299.000000</td>\n",
              "      <td>303.000000</td>\n",
              "    </tr>\n",
              "    <tr>\n",
              "      <th>mean</th>\n",
              "      <td>54.438944</td>\n",
              "      <td>0.679868</td>\n",
              "      <td>131.689769</td>\n",
              "      <td>246.693069</td>\n",
              "      <td>0.148515</td>\n",
              "      <td>0.990099</td>\n",
              "      <td>149.607261</td>\n",
              "      <td>0.326733</td>\n",
              "      <td>1.039604</td>\n",
              "      <td>1.600660</td>\n",
              "      <td>0.672241</td>\n",
              "      <td>0.541254</td>\n",
              "    </tr>\n",
              "    <tr>\n",
              "      <th>std</th>\n",
              "      <td>9.038662</td>\n",
              "      <td>0.467299</td>\n",
              "      <td>17.599748</td>\n",
              "      <td>51.776918</td>\n",
              "      <td>0.356198</td>\n",
              "      <td>0.994971</td>\n",
              "      <td>22.875003</td>\n",
              "      <td>0.469794</td>\n",
              "      <td>1.161075</td>\n",
              "      <td>0.616226</td>\n",
              "      <td>0.937438</td>\n",
              "      <td>0.499120</td>\n",
              "    </tr>\n",
              "    <tr>\n",
              "      <th>min</th>\n",
              "      <td>29.000000</td>\n",
              "      <td>0.000000</td>\n",
              "      <td>94.000000</td>\n",
              "      <td>126.000000</td>\n",
              "      <td>0.000000</td>\n",
              "      <td>0.000000</td>\n",
              "      <td>71.000000</td>\n",
              "      <td>0.000000</td>\n",
              "      <td>0.000000</td>\n",
              "      <td>1.000000</td>\n",
              "      <td>0.000000</td>\n",
              "      <td>0.000000</td>\n",
              "    </tr>\n",
              "    <tr>\n",
              "      <th>25%</th>\n",
              "      <td>48.000000</td>\n",
              "      <td>0.000000</td>\n",
              "      <td>120.000000</td>\n",
              "      <td>211.000000</td>\n",
              "      <td>0.000000</td>\n",
              "      <td>0.000000</td>\n",
              "      <td>133.500000</td>\n",
              "      <td>0.000000</td>\n",
              "      <td>0.000000</td>\n",
              "      <td>1.000000</td>\n",
              "      <td>0.000000</td>\n",
              "      <td>0.000000</td>\n",
              "    </tr>\n",
              "    <tr>\n",
              "      <th>50%</th>\n",
              "      <td>56.000000</td>\n",
              "      <td>1.000000</td>\n",
              "      <td>130.000000</td>\n",
              "      <td>241.000000</td>\n",
              "      <td>0.000000</td>\n",
              "      <td>1.000000</td>\n",
              "      <td>153.000000</td>\n",
              "      <td>0.000000</td>\n",
              "      <td>0.800000</td>\n",
              "      <td>2.000000</td>\n",
              "      <td>0.000000</td>\n",
              "      <td>1.000000</td>\n",
              "    </tr>\n",
              "    <tr>\n",
              "      <th>75%</th>\n",
              "      <td>61.000000</td>\n",
              "      <td>1.000000</td>\n",
              "      <td>140.000000</td>\n",
              "      <td>275.000000</td>\n",
              "      <td>0.000000</td>\n",
              "      <td>2.000000</td>\n",
              "      <td>166.000000</td>\n",
              "      <td>1.000000</td>\n",
              "      <td>1.600000</td>\n",
              "      <td>2.000000</td>\n",
              "      <td>1.000000</td>\n",
              "      <td>1.000000</td>\n",
              "    </tr>\n",
              "    <tr>\n",
              "      <th>max</th>\n",
              "      <td>77.000000</td>\n",
              "      <td>1.000000</td>\n",
              "      <td>200.000000</td>\n",
              "      <td>564.000000</td>\n",
              "      <td>1.000000</td>\n",
              "      <td>2.000000</td>\n",
              "      <td>202.000000</td>\n",
              "      <td>1.000000</td>\n",
              "      <td>6.200000</td>\n",
              "      <td>3.000000</td>\n",
              "      <td>3.000000</td>\n",
              "      <td>1.000000</td>\n",
              "    </tr>\n",
              "  </tbody>\n",
              "</table>\n",
              "</div>"
            ],
            "text/plain": [
              "              Age         Sex      RestBP        Chol         Fbs     RestECG  \\\n",
              "count  303.000000  303.000000  303.000000  303.000000  303.000000  303.000000   \n",
              "mean    54.438944    0.679868  131.689769  246.693069    0.148515    0.990099   \n",
              "std      9.038662    0.467299   17.599748   51.776918    0.356198    0.994971   \n",
              "min     29.000000    0.000000   94.000000  126.000000    0.000000    0.000000   \n",
              "25%     48.000000    0.000000  120.000000  211.000000    0.000000    0.000000   \n",
              "50%     56.000000    1.000000  130.000000  241.000000    0.000000    1.000000   \n",
              "75%     61.000000    1.000000  140.000000  275.000000    0.000000    2.000000   \n",
              "max     77.000000    1.000000  200.000000  564.000000    1.000000    2.000000   \n",
              "\n",
              "            MaxHR       ExAng     Oldpeak       Slope          Ca         AHD  \n",
              "count  303.000000  303.000000  303.000000  303.000000  299.000000  303.000000  \n",
              "mean   149.607261    0.326733    1.039604    1.600660    0.672241    0.541254  \n",
              "std     22.875003    0.469794    1.161075    0.616226    0.937438    0.499120  \n",
              "min     71.000000    0.000000    0.000000    1.000000    0.000000    0.000000  \n",
              "25%    133.500000    0.000000    0.000000    1.000000    0.000000    0.000000  \n",
              "50%    153.000000    0.000000    0.800000    2.000000    0.000000    1.000000  \n",
              "75%    166.000000    1.000000    1.600000    2.000000    1.000000    1.000000  \n",
              "max    202.000000    1.000000    6.200000    3.000000    3.000000    1.000000  "
            ]
          },
          "metadata": {
            "tags": []
          },
          "execution_count": 83
        }
      ]
    },
    {
      "metadata": {
        "id": "MNC7HpP-hBhm",
        "colab_type": "text"
      },
      "cell_type": "markdown",
      "source": [
        "Checking for null values"
      ]
    },
    {
      "metadata": {
        "id": "IpYhcHQzhA0b",
        "colab_type": "code",
        "colab": {
          "base_uri": "https://localhost:8080/",
          "height": 272
        },
        "outputId": "ad0d828e-d8f9-4bcf-c1a7-879239ebd7cc"
      },
      "cell_type": "code",
      "source": [
        "data.isnull().sum()"
      ],
      "execution_count": 84,
      "outputs": [
        {
          "output_type": "execute_result",
          "data": {
            "text/plain": [
              "Age          0\n",
              "Sex          0\n",
              "ChestPain    0\n",
              "RestBP       0\n",
              "Chol         0\n",
              "Fbs          0\n",
              "RestECG      0\n",
              "MaxHR        0\n",
              "ExAng        0\n",
              "Oldpeak      0\n",
              "Slope        0\n",
              "Ca           4\n",
              "Thal         2\n",
              "AHD          0\n",
              "dtype: int64"
            ]
          },
          "metadata": {
            "tags": []
          },
          "execution_count": 84
        }
      ]
    },
    {
      "metadata": {
        "id": "49vJNYoGj5Pc",
        "colab_type": "text"
      },
      "cell_type": "markdown",
      "source": [
        "## Treating Null Values"
      ]
    },
    {
      "metadata": {
        "id": "3oNG4Haqj9hQ",
        "colab_type": "text"
      },
      "cell_type": "markdown",
      "source": [
        "NaN treating for Ca colums"
      ]
    },
    {
      "metadata": {
        "id": "oRpFhNyviJrD",
        "colab_type": "code",
        "colab": {
          "base_uri": "https://localhost:8080/",
          "height": 51
        },
        "outputId": "852f8925-b85c-4420-fbe0-f4e8b0a9ab55"
      },
      "cell_type": "code",
      "source": [
        "data['Ca'].mode()"
      ],
      "execution_count": 86,
      "outputs": [
        {
          "output_type": "execute_result",
          "data": {
            "text/plain": [
              "0    0.0\n",
              "dtype: float64"
            ]
          },
          "metadata": {
            "tags": []
          },
          "execution_count": 86
        }
      ]
    },
    {
      "metadata": {
        "id": "Sc2n7HWXhkPW",
        "colab_type": "code",
        "colab": {
          "base_uri": "https://localhost:8080/",
          "height": 71
        },
        "outputId": "5a27dae0-dd5d-46af-a377-8e0ed1fdc8cf"
      },
      "cell_type": "code",
      "source": [
        "from sklearn.preprocessing import Imputer\n",
        "imputer=Imputer(missing_values=\"NaN\", strategy=\"median\" )"
      ],
      "execution_count": 87,
      "outputs": [
        {
          "output_type": "stream",
          "text": [
            "/usr/local/lib/python3.6/dist-packages/sklearn/utils/deprecation.py:58: DeprecationWarning: Class Imputer is deprecated; Imputer was deprecated in version 0.20 and will be removed in 0.22. Import impute.SimpleImputer from sklearn instead.\n",
            "  warnings.warn(msg, category=DeprecationWarning)\n"
          ],
          "name": "stderr"
        }
      ]
    },
    {
      "metadata": {
        "id": "9KATrnko0Ibc",
        "colab_type": "text"
      },
      "cell_type": "markdown",
      "source": [
        "# Feature Engineering"
      ]
    },
    {
      "metadata": {
        "id": "6uiOgGIYt74i",
        "colab_type": "code",
        "colab": {
          "base_uri": "https://localhost:8080/",
          "height": 71
        },
        "outputId": "b2a6d91b-c74f-49b8-bce7-4986a0245891"
      },
      "cell_type": "code",
      "source": [
        "import statsmodels.api as sm\n",
        "def stepwise_selection(X, y, \n",
        "                       initial_list=[], \n",
        "                       threshold_in=0.01, \n",
        "                       threshold_out = 0.05, \n",
        "                       verbose=True):\n",
        "\n",
        "    included = list(initial_list)\n",
        "    while True:\n",
        "        changed=False\n",
        "        # forward step\n",
        "        excluded = list(set(X.columns)-set(included))\n",
        "        new_pval = pd.Series(index=excluded)\n",
        "        for new_column in excluded:\n",
        "            model = sm.OLS(y, sm.add_constant(pd.DataFrame(X[included+[new_column]]))).fit()\n",
        "            new_pval[new_column] = model.pvalues[new_column]\n",
        "        best_pval = new_pval.min()\n",
        "        if best_pval < threshold_in:\n",
        "            best_feature = new_pval.argmin()\n",
        "            included.append(best_feature)\n",
        "            changed=True\n",
        "            if verbose:\n",
        "                print('Add  {:30} with p-value {:.6}'.format(best_feature, best_pval))\n",
        "\n",
        "        # backward step\n",
        "        model = sm.OLS(y, sm.add_constant(pd.DataFrame(X[included]))).fit()\n",
        "        # use all coefs except intercept\n",
        "        pvalues = model.pvalues.iloc[1:]\n",
        "        worst_pval = pvalues.max() # null if pvalues is empty\n",
        "        if worst_pval > threshold_out:\n",
        "            changed=True\n",
        "            worst_feature = pvalues.argmax()\n",
        "            included.remove(worst_feature)\n",
        "            if verbose:\n",
        "                print('Drop {:30} with p-value {:.6}'.format(worst_feature, worst_pval))\n",
        "        if not changed:\n",
        "            break\n",
        "    return included"
      ],
      "execution_count": 142,
      "outputs": [
        {
          "output_type": "stream",
          "text": [
            "/usr/local/lib/python3.6/dist-packages/statsmodels/compat/pandas.py:56: FutureWarning: The pandas.core.datetools module is deprecated and will be removed in a future version. Please use the pandas.tseries module instead.\n",
            "  from pandas.core import datetools\n"
          ],
          "name": "stderr"
        }
      ]
    },
    {
      "metadata": {
        "id": "xA_qMVsTzDiH",
        "colab_type": "code",
        "colab": {
          "base_uri": "https://localhost:8080/",
          "height": 156
        },
        "outputId": "17bb2a38-d89c-424a-a4d4-282cd4de3725"
      },
      "cell_type": "code",
      "source": [
        "stepwise_selection(x,y)"
      ],
      "execution_count": 143,
      "outputs": [
        {
          "output_type": "stream",
          "text": [
            "/usr/local/lib/python3.6/dist-packages/ipykernel_launcher.py:19: FutureWarning: 'argmin' is deprecated. Use 'idxmin' instead. The behavior of 'argmin' will be corrected to return the positional minimum in the future. Use 'series.values.argmin' to get the position of the minimum now.\n"
          ],
          "name": "stderr"
        },
        {
          "output_type": "stream",
          "text": [
            "Add  Thal_normal                    with p-value 1.18344e-22\n",
            "Add  ChestPain_asymptomatic         with p-value 6.11892e-14\n",
            "Add  Ca                             with p-value 3.5056e-10\n",
            "Add  Oldpeak                        with p-value 0.000396969\n",
            "Add  ExAng                          with p-value 0.00209766\n"
          ],
          "name": "stdout"
        },
        {
          "output_type": "execute_result",
          "data": {
            "text/plain": [
              "['Thal_normal', 'ChestPain_asymptomatic', 'Ca', 'Oldpeak', 'ExAng']"
            ]
          },
          "metadata": {
            "tags": []
          },
          "execution_count": 143
        }
      ]
    },
    {
      "metadata": {
        "id": "oOF3Tfk4imvy",
        "colab_type": "code",
        "colab": {}
      },
      "cell_type": "code",
      "source": [
        "data[\"Ca\"]=imputer.fit_transform(data[[\"Ca\"]]).ravel()"
      ],
      "execution_count": 0,
      "outputs": []
    },
    {
      "metadata": {
        "id": "m4iz-8kxiJE5",
        "colab_type": "code",
        "colab": {
          "base_uri": "https://localhost:8080/",
          "height": 272
        },
        "outputId": "9347fc45-f241-47d9-c018-1831895c548d"
      },
      "cell_type": "code",
      "source": [
        "data.isnull().sum()"
      ],
      "execution_count": 89,
      "outputs": [
        {
          "output_type": "execute_result",
          "data": {
            "text/plain": [
              "Age          0\n",
              "Sex          0\n",
              "ChestPain    0\n",
              "RestBP       0\n",
              "Chol         0\n",
              "Fbs          0\n",
              "RestECG      0\n",
              "MaxHR        0\n",
              "ExAng        0\n",
              "Oldpeak      0\n",
              "Slope        0\n",
              "Ca           0\n",
              "Thal         2\n",
              "AHD          0\n",
              "dtype: int64"
            ]
          },
          "metadata": {
            "tags": []
          },
          "execution_count": 89
        }
      ]
    },
    {
      "metadata": {
        "id": "AvlfGZVBkCNc",
        "colab_type": "text"
      },
      "cell_type": "markdown",
      "source": [
        "##NaN Treatment for Thal"
      ]
    },
    {
      "metadata": {
        "id": "nMtBCOm3kH8T",
        "colab_type": "code",
        "colab": {}
      },
      "cell_type": "code",
      "source": [
        "data.dropna(inplace=True)"
      ],
      "execution_count": 0,
      "outputs": []
    },
    {
      "metadata": {
        "id": "x9hr3MlbkTGK",
        "colab_type": "code",
        "colab": {
          "base_uri": "https://localhost:8080/",
          "height": 272
        },
        "outputId": "8845aef3-66b6-4ade-82aa-a7b06f39e6a1"
      },
      "cell_type": "code",
      "source": [
        "data.isnull().sum()"
      ],
      "execution_count": 91,
      "outputs": [
        {
          "output_type": "execute_result",
          "data": {
            "text/plain": [
              "Age          0\n",
              "Sex          0\n",
              "ChestPain    0\n",
              "RestBP       0\n",
              "Chol         0\n",
              "Fbs          0\n",
              "RestECG      0\n",
              "MaxHR        0\n",
              "ExAng        0\n",
              "Oldpeak      0\n",
              "Slope        0\n",
              "Ca           0\n",
              "Thal         0\n",
              "AHD          0\n",
              "dtype: int64"
            ]
          },
          "metadata": {
            "tags": []
          },
          "execution_count": 91
        }
      ]
    },
    {
      "metadata": {
        "id": "PjIh24qrpIVB",
        "colab_type": "code",
        "colab": {
          "base_uri": "https://localhost:8080/",
          "height": 34
        },
        "outputId": "8cb844a5-116e-4bbe-a516-e104d414c485"
      },
      "cell_type": "code",
      "source": [
        "data['Ca'].dtypes"
      ],
      "execution_count": 98,
      "outputs": [
        {
          "output_type": "execute_result",
          "data": {
            "text/plain": [
              "dtype('float64')"
            ]
          },
          "metadata": {
            "tags": []
          },
          "execution_count": 98
        }
      ]
    },
    {
      "metadata": {
        "id": "x0OofE_tkn9m",
        "colab_type": "text"
      },
      "cell_type": "markdown",
      "source": [
        "## Checking Unique for categorical variables"
      ]
    },
    {
      "metadata": {
        "id": "K02bD2IFkmoe",
        "colab_type": "code",
        "colab": {
          "base_uri": "https://localhost:8080/",
          "height": 85
        },
        "outputId": "20d8e9ae-eac8-43de-8242-abdef8992983"
      },
      "cell_type": "code",
      "source": [
        "for col in data.columns:\n",
        "#   print(data[col].dtypes)\n",
        "  if(data[col].dtypes==object):    \n",
        "    uni=data[col].unique()\n",
        "    print(col,uni)\n",
        "    print('***********')"
      ],
      "execution_count": 101,
      "outputs": [
        {
          "output_type": "stream",
          "text": [
            "ChestPain ['typical' 'asymptomatic' 'nonanginal' 'nontypical']\n",
            "***********\n",
            "Thal ['fixed' 'normal' 'reversable']\n",
            "***********\n"
          ],
          "name": "stdout"
        }
      ]
    },
    {
      "metadata": {
        "id": "LBKEntEpggCn",
        "colab_type": "text"
      },
      "cell_type": "markdown",
      "source": [
        "#### Dummification Process"
      ]
    },
    {
      "metadata": {
        "id": "z9hc4V35gPs6",
        "colab_type": "code",
        "colab": {
          "base_uri": "https://localhost:8080/",
          "height": 224
        },
        "outputId": "85e9bfd8-b7c1-46c3-e3b8-20931cc52406"
      },
      "cell_type": "code",
      "source": [
        "heart=pd.get_dummies(data)\n",
        "heart.head()"
      ],
      "execution_count": 93,
      "outputs": [
        {
          "output_type": "execute_result",
          "data": {
            "text/html": [
              "<div>\n",
              "<style scoped>\n",
              "    .dataframe tbody tr th:only-of-type {\n",
              "        vertical-align: middle;\n",
              "    }\n",
              "\n",
              "    .dataframe tbody tr th {\n",
              "        vertical-align: top;\n",
              "    }\n",
              "\n",
              "    .dataframe thead th {\n",
              "        text-align: right;\n",
              "    }\n",
              "</style>\n",
              "<table border=\"1\" class=\"dataframe\">\n",
              "  <thead>\n",
              "    <tr style=\"text-align: right;\">\n",
              "      <th></th>\n",
              "      <th>Age</th>\n",
              "      <th>Sex</th>\n",
              "      <th>RestBP</th>\n",
              "      <th>Chol</th>\n",
              "      <th>Fbs</th>\n",
              "      <th>RestECG</th>\n",
              "      <th>MaxHR</th>\n",
              "      <th>ExAng</th>\n",
              "      <th>Oldpeak</th>\n",
              "      <th>Slope</th>\n",
              "      <th>Ca</th>\n",
              "      <th>AHD</th>\n",
              "      <th>ChestPain_asymptomatic</th>\n",
              "      <th>ChestPain_nonanginal</th>\n",
              "      <th>ChestPain_nontypical</th>\n",
              "      <th>ChestPain_typical</th>\n",
              "      <th>Thal_fixed</th>\n",
              "      <th>Thal_normal</th>\n",
              "      <th>Thal_reversable</th>\n",
              "    </tr>\n",
              "  </thead>\n",
              "  <tbody>\n",
              "    <tr>\n",
              "      <th>1</th>\n",
              "      <td>63</td>\n",
              "      <td>1</td>\n",
              "      <td>145</td>\n",
              "      <td>233</td>\n",
              "      <td>1</td>\n",
              "      <td>2</td>\n",
              "      <td>150</td>\n",
              "      <td>0</td>\n",
              "      <td>2.3</td>\n",
              "      <td>3</td>\n",
              "      <td>0.0</td>\n",
              "      <td>1</td>\n",
              "      <td>0</td>\n",
              "      <td>0</td>\n",
              "      <td>0</td>\n",
              "      <td>1</td>\n",
              "      <td>1</td>\n",
              "      <td>0</td>\n",
              "      <td>0</td>\n",
              "    </tr>\n",
              "    <tr>\n",
              "      <th>2</th>\n",
              "      <td>67</td>\n",
              "      <td>1</td>\n",
              "      <td>160</td>\n",
              "      <td>286</td>\n",
              "      <td>0</td>\n",
              "      <td>2</td>\n",
              "      <td>108</td>\n",
              "      <td>1</td>\n",
              "      <td>1.5</td>\n",
              "      <td>2</td>\n",
              "      <td>3.0</td>\n",
              "      <td>0</td>\n",
              "      <td>1</td>\n",
              "      <td>0</td>\n",
              "      <td>0</td>\n",
              "      <td>0</td>\n",
              "      <td>0</td>\n",
              "      <td>1</td>\n",
              "      <td>0</td>\n",
              "    </tr>\n",
              "    <tr>\n",
              "      <th>3</th>\n",
              "      <td>67</td>\n",
              "      <td>1</td>\n",
              "      <td>120</td>\n",
              "      <td>229</td>\n",
              "      <td>0</td>\n",
              "      <td>2</td>\n",
              "      <td>129</td>\n",
              "      <td>1</td>\n",
              "      <td>2.6</td>\n",
              "      <td>2</td>\n",
              "      <td>2.0</td>\n",
              "      <td>0</td>\n",
              "      <td>1</td>\n",
              "      <td>0</td>\n",
              "      <td>0</td>\n",
              "      <td>0</td>\n",
              "      <td>0</td>\n",
              "      <td>0</td>\n",
              "      <td>1</td>\n",
              "    </tr>\n",
              "    <tr>\n",
              "      <th>4</th>\n",
              "      <td>37</td>\n",
              "      <td>1</td>\n",
              "      <td>130</td>\n",
              "      <td>250</td>\n",
              "      <td>0</td>\n",
              "      <td>0</td>\n",
              "      <td>187</td>\n",
              "      <td>0</td>\n",
              "      <td>3.5</td>\n",
              "      <td>3</td>\n",
              "      <td>0.0</td>\n",
              "      <td>1</td>\n",
              "      <td>0</td>\n",
              "      <td>1</td>\n",
              "      <td>0</td>\n",
              "      <td>0</td>\n",
              "      <td>0</td>\n",
              "      <td>1</td>\n",
              "      <td>0</td>\n",
              "    </tr>\n",
              "    <tr>\n",
              "      <th>5</th>\n",
              "      <td>41</td>\n",
              "      <td>0</td>\n",
              "      <td>130</td>\n",
              "      <td>204</td>\n",
              "      <td>0</td>\n",
              "      <td>2</td>\n",
              "      <td>172</td>\n",
              "      <td>0</td>\n",
              "      <td>1.4</td>\n",
              "      <td>1</td>\n",
              "      <td>0.0</td>\n",
              "      <td>1</td>\n",
              "      <td>0</td>\n",
              "      <td>0</td>\n",
              "      <td>1</td>\n",
              "      <td>0</td>\n",
              "      <td>0</td>\n",
              "      <td>1</td>\n",
              "      <td>0</td>\n",
              "    </tr>\n",
              "  </tbody>\n",
              "</table>\n",
              "</div>"
            ],
            "text/plain": [
              "   Age  Sex  RestBP  Chol  Fbs  RestECG  MaxHR  ExAng  Oldpeak  Slope   Ca  \\\n",
              "1   63    1     145   233    1        2    150      0      2.3      3  0.0   \n",
              "2   67    1     160   286    0        2    108      1      1.5      2  3.0   \n",
              "3   67    1     120   229    0        2    129      1      2.6      2  2.0   \n",
              "4   37    1     130   250    0        0    187      0      3.5      3  0.0   \n",
              "5   41    0     130   204    0        2    172      0      1.4      1  0.0   \n",
              "\n",
              "   AHD  ChestPain_asymptomatic  ChestPain_nonanginal  ChestPain_nontypical  \\\n",
              "1    1                       0                     0                     0   \n",
              "2    0                       1                     0                     0   \n",
              "3    0                       1                     0                     0   \n",
              "4    1                       0                     1                     0   \n",
              "5    1                       0                     0                     1   \n",
              "\n",
              "   ChestPain_typical  Thal_fixed  Thal_normal  Thal_reversable  \n",
              "1                  1           1            0                0  \n",
              "2                  0           0            1                0  \n",
              "3                  0           0            0                1  \n",
              "4                  0           0            1                0  \n",
              "5                  0           0            1                0  "
            ]
          },
          "metadata": {
            "tags": []
          },
          "execution_count": 93
        }
      ]
    },
    {
      "metadata": {
        "id": "sh5HMvm8pfhJ",
        "colab_type": "code",
        "colab": {
          "base_uri": "https://localhost:8080/",
          "height": 102
        },
        "outputId": "fe9d8804-a718-4d26-86e1-cb8398ef5d7b"
      },
      "cell_type": "code",
      "source": [
        "heart.columns"
      ],
      "execution_count": 105,
      "outputs": [
        {
          "output_type": "execute_result",
          "data": {
            "text/plain": [
              "Index(['Age', 'Sex', 'RestBP', 'Chol', 'Fbs', 'RestECG', 'MaxHR', 'ExAng',\n",
              "       'Oldpeak', 'Slope', 'Ca', 'AHD', 'ChestPain_asymptomatic',\n",
              "       'ChestPain_nonanginal', 'ChestPain_typical', 'Thal_fixed',\n",
              "       'Thal_normal'],\n",
              "      dtype='object')"
            ]
          },
          "metadata": {
            "tags": []
          },
          "execution_count": 105
        }
      ]
    },
    {
      "metadata": {
        "id": "PqG5vSjrg7gl",
        "colab_type": "code",
        "colab": {}
      },
      "cell_type": "code",
      "source": [
        "heart.drop(columns=['ChestPain_nontypical','Thal_reversable'],inplace=True)"
      ],
      "execution_count": 0,
      "outputs": []
    },
    {
      "metadata": {
        "id": "cENk2e-mp9xy",
        "colab_type": "text"
      },
      "cell_type": "markdown",
      "source": [
        "#Model Buliding"
      ]
    },
    {
      "metadata": {
        "id": "3UpNoXCmqiKX",
        "colab_type": "code",
        "colab": {}
      },
      "cell_type": "code",
      "source": [
        "x=heart.drop('AHD',axis=1)\n",
        "y=heart['AHD']"
      ],
      "execution_count": 0,
      "outputs": []
    },
    {
      "metadata": {
        "id": "Hj-9zIxYp8_4",
        "colab_type": "code",
        "colab": {}
      },
      "cell_type": "code",
      "source": [
        "LR=LogisticRegression(penalty='l1')"
      ],
      "execution_count": 0,
      "outputs": []
    },
    {
      "metadata": {
        "id": "8Bcjh3F2qXZ9",
        "colab_type": "code",
        "colab": {
          "base_uri": "https://localhost:8080/",
          "height": 139
        },
        "outputId": "dc02409c-a18b-478b-c351-6b8d55e094af"
      },
      "cell_type": "code",
      "source": [
        "LR.fit(x,y)"
      ],
      "execution_count": 117,
      "outputs": [
        {
          "output_type": "stream",
          "text": [
            "/usr/local/lib/python3.6/dist-packages/sklearn/linear_model/logistic.py:433: FutureWarning: Default solver will be changed to 'lbfgs' in 0.22. Specify a solver to silence this warning.\n",
            "  FutureWarning)\n"
          ],
          "name": "stderr"
        },
        {
          "output_type": "execute_result",
          "data": {
            "text/plain": [
              "LogisticRegression(C=1.0, class_weight=None, dual=False, fit_intercept=True,\n",
              "          intercept_scaling=1, max_iter=100, multi_class='warn',\n",
              "          n_jobs=None, penalty='l1', random_state=None, solver='warn',\n",
              "          tol=0.0001, verbose=0, warm_start=False)"
            ]
          },
          "metadata": {
            "tags": []
          },
          "execution_count": 117
        }
      ]
    },
    {
      "metadata": {
        "id": "0rnJhj3tqGIn",
        "colab_type": "code",
        "colab": {}
      },
      "cell_type": "code",
      "source": [
        "pred_y=LR.predict(x)"
      ],
      "execution_count": 0,
      "outputs": []
    },
    {
      "metadata": {
        "id": "BgRyRzB5rAhK",
        "colab_type": "code",
        "colab": {}
      },
      "cell_type": "code",
      "source": [
        "from sklearn.metrics import accuracy_score,precision_score,recall_score"
      ],
      "execution_count": 0,
      "outputs": []
    },
    {
      "metadata": {
        "id": "Vay2QODis1qS",
        "colab_type": "code",
        "colab": {}
      },
      "cell_type": "code",
      "source": [
        "from sklearn.metrics import classification_report\n",
        "from sklearn.metrics import confusion_matrix\n",
        "from sklearn.metrics import accuracy_score\n",
        "from sklearn.metrics import *"
      ],
      "execution_count": 0,
      "outputs": []
    },
    {
      "metadata": {
        "id": "6ANHO5evrbPY",
        "colab_type": "code",
        "colab": {
          "base_uri": "https://localhost:8080/",
          "height": 34
        },
        "outputId": "489e9f59-279c-4ea0-8060-41885b66456c"
      },
      "cell_type": "code",
      "source": [
        "accuracy_score(y,pred_y)"
      ],
      "execution_count": 120,
      "outputs": [
        {
          "output_type": "execute_result",
          "data": {
            "text/plain": [
              "0.8737541528239202"
            ]
          },
          "metadata": {
            "tags": []
          },
          "execution_count": 120
        }
      ]
    },
    {
      "metadata": {
        "id": "M0C-gow3sCKV",
        "colab_type": "text"
      },
      "cell_type": "markdown",
      "source": [
        "# KFold"
      ]
    },
    {
      "metadata": {
        "id": "PO3792MTsA4K",
        "colab_type": "code",
        "colab": {
          "base_uri": "https://localhost:8080/",
          "height": 258
        },
        "outputId": "e7d2dc32-0d68-4620-bf17-c5155aaf821f"
      },
      "cell_type": "code",
      "source": [
        "from sklearn.model_selection import KFold\n",
        "import numpy as np\n",
        "kf = KFold(n_splits=5,shuffle=True,random_state=2)\n",
        "acc=[]\n",
        "pre=[]\n",
        "recall=[]\n",
        "for train,test in kf.split(x,y):\n",
        "    M = LogisticRegression(penalty='l2')\n",
        "    xtrain,xtest = x[train,:],x[test,:]\n",
        "    ytrain,ytest = y[train],y[test]\n",
        "    M.fit(xtrain,ytrain)\n",
        "    ypredict = M.predict(xtest)\n",
        "    acc.append(accuracy_score(ytest,ypredict))\n",
        "    pre.append(precision_score(ytest,ypredict))\n",
        "    recall.append(recall_score(ytest,ypredict))\n",
        "print('Cross validation score:%.2f%%'%np.mean(acc))\n",
        "print('Accuracy score:%.2f%%'%np.mean(pre))\n",
        "print('Recall score:%.2f%%'%np.mean(recall))"
      ],
      "execution_count": 131,
      "outputs": [
        {
          "output_type": "stream",
          "text": [
            "Cross validation score:0.85%\n",
            "Accuracy score:0.85%\n",
            "Recall score:0.90%\n"
          ],
          "name": "stdout"
        },
        {
          "output_type": "stream",
          "text": [
            "/usr/local/lib/python3.6/dist-packages/sklearn/linear_model/logistic.py:433: FutureWarning: Default solver will be changed to 'lbfgs' in 0.22. Specify a solver to silence this warning.\n",
            "  FutureWarning)\n",
            "/usr/local/lib/python3.6/dist-packages/sklearn/linear_model/logistic.py:433: FutureWarning: Default solver will be changed to 'lbfgs' in 0.22. Specify a solver to silence this warning.\n",
            "  FutureWarning)\n",
            "/usr/local/lib/python3.6/dist-packages/sklearn/linear_model/logistic.py:433: FutureWarning: Default solver will be changed to 'lbfgs' in 0.22. Specify a solver to silence this warning.\n",
            "  FutureWarning)\n",
            "/usr/local/lib/python3.6/dist-packages/sklearn/linear_model/logistic.py:433: FutureWarning: Default solver will be changed to 'lbfgs' in 0.22. Specify a solver to silence this warning.\n",
            "  FutureWarning)\n",
            "/usr/local/lib/python3.6/dist-packages/sklearn/linear_model/logistic.py:433: FutureWarning: Default solver will be changed to 'lbfgs' in 0.22. Specify a solver to silence this warning.\n",
            "  FutureWarning)\n"
          ],
          "name": "stderr"
        }
      ]
    },
    {
      "metadata": {
        "id": "psEOpla4riLB",
        "colab_type": "code",
        "colab": {
          "base_uri": "https://localhost:8080/",
          "height": 51
        },
        "outputId": "496bf70c-4357-482e-9bef-fdfa5641122b"
      },
      "cell_type": "code",
      "source": [
        "confusion_matrix(y,pred_y) # Confusion matrix"
      ],
      "execution_count": 127,
      "outputs": [
        {
          "output_type": "execute_result",
          "data": {
            "text/plain": [
              "array([[113,  25],\n",
              "       [ 13, 150]])"
            ]
          },
          "metadata": {
            "tags": []
          },
          "execution_count": 127
        }
      ]
    },
    {
      "metadata": {
        "id": "Aa2FfaY3s-e1",
        "colab_type": "code",
        "colab": {
          "base_uri": "https://localhost:8080/",
          "height": 170
        },
        "outputId": "546e1359-59d7-48e0-ea31-e6d3ff8af74a"
      },
      "cell_type": "code",
      "source": [
        "print(classification_report(y,pred_y))"
      ],
      "execution_count": 129,
      "outputs": [
        {
          "output_type": "stream",
          "text": [
            "              precision    recall  f1-score   support\n",
            "\n",
            "           0       0.90      0.82      0.86       138\n",
            "           1       0.86      0.92      0.89       163\n",
            "\n",
            "   micro avg       0.87      0.87      0.87       301\n",
            "   macro avg       0.88      0.87      0.87       301\n",
            "weighted avg       0.88      0.87      0.87       301\n",
            "\n"
          ],
          "name": "stdout"
        }
      ]
    },
    {
      "metadata": {
        "id": "LWbvUg6Qt6cw",
        "colab_type": "text"
      },
      "cell_type": "markdown",
      "source": [
        "#ROC"
      ]
    },
    {
      "metadata": {
        "id": "4vpoJh7XtOkZ",
        "colab_type": "code",
        "colab": {
          "base_uri": "https://localhost:8080/",
          "height": 393
        },
        "outputId": "4b703e37-7dfb-4a05-c8c2-fd7be507c5b0"
      },
      "cell_type": "code",
      "source": [
        "from sklearn.metrics import roc_curve,auc\n",
        "import matplotlib.pyplot as plt\n",
        "fpr,tpr,_ =roc_curve(y,pred_y) #  roc_curve(ytest,ypredict of confusion)--> Confusion matric result\n",
        "roc_auc = auc(fpr,tpr)\n",
        "print(roc_auc)\n",
        "plt.figure()\n",
        "plt.plot(fpr,tpr)\n",
        "plt.xlim([0.0,1.0])\n",
        "plt.ylim([0.0,1.0])\n",
        "plt.xlabel('False positive rate')\n",
        "plt.ylabel('True positive rate')\n",
        "plt.title('Reciver operating charecteristic')\n",
        "plt.show()"
      ],
      "execution_count": 137,
      "outputs": [
        {
          "output_type": "stream",
          "text": [
            "0.8695429892415755\n"
          ],
          "name": "stdout"
        },
        {
          "output_type": "display_data",
          "data": {
            "image/png": "[encoded data removed]",
            "text/plain": [
              "<Figure size 576x396 with 1 Axes>"
            ]
          },
          "metadata": {
            "tags": []
          }
        }
      ]
    },
    {
      "metadata": {
        "id": "NmfsEroW0QJC",
        "colab_type": "text"
      },
      "cell_type": "markdown",
      "source": [
        "# Model Predicting 2"
      ]
    },
    {
      "metadata": {
        "id": "r9AqiXsCzQNG",
        "colab_type": "code",
        "colab": {}
      },
      "cell_type": "code",
      "source": [
        "col_to_use=['Thal_normal', 'ChestPain_asymptomatic', 'Ca', 'Oldpeak', 'ExAng']\n",
        "x=heart[col_to_use]\n",
        "y=heart['AHD']"
      ],
      "execution_count": 0,
      "outputs": []
    },
    {
      "metadata": {
        "id": "tu-4-gig0l71",
        "colab_type": "code",
        "colab": {
          "base_uri": "https://localhost:8080/",
          "height": 71
        },
        "outputId": "b43c0b73-09ea-42fe-aafe-6f99b9e75173"
      },
      "cell_type": "code",
      "source": [
        "LR1=LR.fit(x,y)"
      ],
      "execution_count": 146,
      "outputs": [
        {
          "output_type": "stream",
          "text": [
            "/usr/local/lib/python3.6/dist-packages/sklearn/linear_model/logistic.py:433: FutureWarning: Default solver will be changed to 'lbfgs' in 0.22. Specify a solver to silence this warning.\n",
            "  FutureWarning)\n"
          ],
          "name": "stderr"
        }
      ]
    },
    {
      "metadata": {
        "id": "tQWytxxD0n19",
        "colab_type": "code",
        "colab": {
          "base_uri": "https://localhost:8080/",
          "height": 255
        },
        "outputId": "8d377133-d269-4029-9a68-cc4672987336"
      },
      "cell_type": "code",
      "source": [
        "LR1.predict(x)"
      ],
      "execution_count": 148,
      "outputs": [
        {
          "output_type": "execute_result",
          "data": {
            "text/plain": [
              "array([1, 0, 0, 1, 1, 1, 0, 1, 0, 0, 0, 1, 0, 1, 1, 1, 1, 1, 1, 1, 1, 1,\n",
              "       1, 0, 0, 1, 1, 1, 1, 0, 1, 0, 1, 0, 1, 1, 0, 0, 0, 1, 0, 0, 1, 1,\n",
              "       1, 0, 1, 0, 1, 1, 1, 0, 1, 1, 0, 0, 0, 0, 1, 1, 0, 1, 0, 1, 0, 0,\n",
              "       1, 1, 0, 1, 1, 0, 0, 0, 1, 1, 0, 1, 1, 0, 0, 1, 1, 0, 1, 1, 1, 1,\n",
              "       1, 1, 0, 0, 1, 1, 0, 0, 0, 1, 1, 1, 1, 1, 1, 0, 1, 0, 1, 0, 0, 0,\n",
              "       0, 1, 0, 0, 1, 1, 1, 0, 0, 0, 0, 1, 0, 1, 1, 0, 0, 1, 1, 1, 0, 1,\n",
              "       1, 1, 1, 0, 0, 0, 1, 1, 1, 1, 0, 1, 1, 0, 1, 1, 1, 1, 1, 1, 0, 0,\n",
              "       0, 0, 0, 0, 0, 1, 0, 1, 1, 1, 0, 1, 1, 0, 1, 0, 0, 1, 1, 0, 0, 0,\n",
              "       0, 1, 0, 0, 0, 1, 0, 1, 1, 1, 0, 1, 0, 1, 0, 0, 0, 1, 0, 1, 1, 1,\n",
              "       1, 1, 1, 1, 1, 0, 0, 0, 0, 1, 1, 1, 0, 1, 0, 1, 1, 1, 1, 0, 1, 1,\n",
              "       1, 1, 0, 0, 1, 1, 1, 0, 0, 1, 0, 0, 1, 1, 0, 0, 0, 1, 1, 1, 1, 1,\n",
              "       0, 1, 1, 0, 0, 0, 1, 0, 0, 0, 1, 1, 1, 0, 1, 1, 1, 1, 1, 1, 1, 0,\n",
              "       0, 0, 0, 1, 0, 0, 0, 1, 1, 1, 1, 1, 1, 1, 0, 1, 0, 1, 0, 0, 0, 1,\n",
              "       1, 1, 1, 1, 0, 0, 1, 1, 0, 0, 1, 0, 0, 1, 1])"
            ]
          },
          "metadata": {
            "tags": []
          },
          "execution_count": 148
        }
      ]
    },
    {
      "metadata": {
        "id": "ngM-TfOg02SA",
        "colab_type": "code",
        "colab": {
          "base_uri": "https://localhost:8080/",
          "height": 34
        },
        "outputId": "0eb960ac-925d-4356-fb16-aaffe04a2cbd"
      },
      "cell_type": "code",
      "source": [
        "accuracy_score(y,pred_y)"
      ],
      "execution_count": 149,
      "outputs": [
        {
          "output_type": "execute_result",
          "data": {
            "text/plain": [
              "0.8737541528239202"
            ]
          },
          "metadata": {
            "tags": []
          },
          "execution_count": 149
        }
      ]
    },
    {
      "metadata": {
        "id": "p3IKcYQI0_fQ",
        "colab_type": "text"
      },
      "cell_type": "markdown",
      "source": [
        "# K Fold"
      ]
    },
    {
      "metadata": {
        "id": "bf9DISiA07tV",
        "colab_type": "code",
        "colab": {
          "base_uri": "https://localhost:8080/",
          "height": 258
        },
        "outputId": "1ad219ce-1c37-4971-bde0-53447a751e8f"
      },
      "cell_type": "code",
      "source": [
        "x=x.values\n",
        "y=y.values\n",
        "from sklearn.model_selection import KFold\n",
        "import numpy as np\n",
        "kf = KFold(n_splits=5,shuffle=True,random_state=2)\n",
        "acc=[]\n",
        "pre=[]\n",
        "recall=[]\n",
        "for train,test in kf.split(x,y):\n",
        "    M = LogisticRegression(penalty='l2')\n",
        "    xtrain,xtest = x[train,:],x[test,:]\n",
        "    ytrain,ytest = y[train],y[test]\n",
        "    M.fit(xtrain,ytrain)\n",
        "    ypredict = M.predict(xtest)\n",
        "    acc.append(accuracy_score(ytest,ypredict))\n",
        "    pre.append(precision_score(ytest,ypredict))\n",
        "    recall.append(recall_score(ytest,ypredict))\n",
        "print('Cross validation score:%.2f%%'%np.mean(acc))\n",
        "print('Accuracy score:%.2f%%'%np.mean(pre))\n",
        "print('Recall score:%.2f%%'%np.mean(recall))"
      ],
      "execution_count": 151,
      "outputs": [
        {
          "output_type": "stream",
          "text": [
            "Cross validation score:0.84%\n",
            "Accuracy score:0.84%\n",
            "Recall score:0.88%\n"
          ],
          "name": "stdout"
        },
        {
          "output_type": "stream",
          "text": [
            "/usr/local/lib/python3.6/dist-packages/sklearn/linear_model/logistic.py:433: FutureWarning: Default solver will be changed to 'lbfgs' in 0.22. Specify a solver to silence this warning.\n",
            "  FutureWarning)\n",
            "/usr/local/lib/python3.6/dist-packages/sklearn/linear_model/logistic.py:433: FutureWarning: Default solver will be changed to 'lbfgs' in 0.22. Specify a solver to silence this warning.\n",
            "  FutureWarning)\n",
            "/usr/local/lib/python3.6/dist-packages/sklearn/linear_model/logistic.py:433: FutureWarning: Default solver will be changed to 'lbfgs' in 0.22. Specify a solver to silence this warning.\n",
            "  FutureWarning)\n",
            "/usr/local/lib/python3.6/dist-packages/sklearn/linear_model/logistic.py:433: FutureWarning: Default solver will be changed to 'lbfgs' in 0.22. Specify a solver to silence this warning.\n",
            "  FutureWarning)\n",
            "/usr/local/lib/python3.6/dist-packages/sklearn/linear_model/logistic.py:433: FutureWarning: Default solver will be changed to 'lbfgs' in 0.22. Specify a solver to silence this warning.\n",
            "  FutureWarning)\n"
          ],
          "name": "stderr"
        }
      ]
    },
    {
      "metadata": {
        "id": "_7N1EhhI1UpT",
        "colab_type": "text"
      },
      "cell_type": "markdown",
      "source": [
        "#ROC"
      ]
    },
    {
      "metadata": {
        "id": "Gz8vTRYO1B7c",
        "colab_type": "code",
        "colab": {
          "base_uri": "https://localhost:8080/",
          "height": 393
        },
        "outputId": "bb326e69-7af5-41b5-b318-33920a3b0cb4"
      },
      "cell_type": "code",
      "source": [
        "from sklearn.metrics import roc_curve,auc\n",
        "import matplotlib.pyplot as plt\n",
        "fpr,tpr,_ =roc_curve(ytest,ypredict) #  roc_curve(ytest,ypredict of confusion)--> Confusion matric result\n",
        "roc_auc = auc(fpr,tpr)\n",
        "print(roc_auc)\n",
        "plt.figure()\n",
        "plt.plot(fpr,tpr)\n",
        "plt.xlim([0.0,1.0])\n",
        "plt.ylim([0.0,1.0])\n",
        "plt.xlabel('False positive rate')\n",
        "plt.ylabel('True positive rate')\n",
        "plt.title('Reciver operating charecteristic')\n",
        "plt.show()"
      ],
      "execution_count": 153,
      "outputs": [
        {
          "output_type": "stream",
          "text": [
            "0.8028571428571428\n"
          ],
          "name": "stdout"
        },
        {
          "output_type": "display_data",
          "data": {
            "image/png": "[encoded data removed]",
            "text/plain": [
              "<Figure size 576x396 with 1 Axes>"
            ]
          },
          "metadata": {
            "tags": []
          }
        }
      ]
    },
    {
      "metadata": {
        "id": "Qb8MzXj_4amg",
        "colab_type": "text"
      },
      "cell_type": "markdown",
      "source": [
        "# Feature engineering_1"
      ]
    },
    {
      "metadata": {
        "id": "cUCS-N1v4d38",
        "colab_type": "code",
        "colab": {
          "base_uri": "https://localhost:8080/",
          "height": 272
        },
        "outputId": "ab17e786-0f4d-4465-a267-7d5b6fa07df5"
      },
      "cell_type": "code",
      "source": [
        "data.dtypes"
      ],
      "execution_count": 157,
      "outputs": [
        {
          "output_type": "execute_result",
          "data": {
            "text/plain": [
              "Age            int64\n",
              "Sex            int64\n",
              "ChestPain     object\n",
              "RestBP         int64\n",
              "Chol           int64\n",
              "Fbs            int64\n",
              "RestECG        int64\n",
              "MaxHR          int64\n",
              "ExAng          int64\n",
              "Oldpeak      float64\n",
              "Slope          int64\n",
              "Ca           float64\n",
              "Thal          object\n",
              "AHD            int64\n",
              "dtype: object"
            ]
          },
          "metadata": {
            "tags": []
          },
          "execution_count": 157
        }
      ]
    },
    {
      "metadata": {
        "id": "HmMN5VHu4ybo",
        "colab_type": "code",
        "colab": {
          "base_uri": "https://localhost:8080/",
          "height": 204
        },
        "outputId": "0e6f5658-ae54-42d8-f7ba-86ba4f2b1831"
      },
      "cell_type": "code",
      "source": [
        "data.head()"
      ],
      "execution_count": 158,
      "outputs": [
        {
          "output_type": "execute_result",
          "data": {
            "text/html": [
              "<div>\n",
              "<style scoped>\n",
              "    .dataframe tbody tr th:only-of-type {\n",
              "        vertical-align: middle;\n",
              "    }\n",
              "\n",
              "    .dataframe tbody tr th {\n",
              "        vertical-align: top;\n",
              "    }\n",
              "\n",
              "    .dataframe thead th {\n",
              "        text-align: right;\n",
              "    }\n",
              "</style>\n",
              "<table border=\"1\" class=\"dataframe\">\n",
              "  <thead>\n",
              "    <tr style=\"text-align: right;\">\n",
              "      <th></th>\n",
              "      <th>Age</th>\n",
              "      <th>Sex</th>\n",
              "      <th>ChestPain</th>\n",
              "      <th>RestBP</th>\n",
              "      <th>Chol</th>\n",
              "      <th>Fbs</th>\n",
              "      <th>RestECG</th>\n",
              "      <th>MaxHR</th>\n",
              "      <th>ExAng</th>\n",
              "      <th>Oldpeak</th>\n",
              "      <th>Slope</th>\n",
              "      <th>Ca</th>\n",
              "      <th>Thal</th>\n",
              "      <th>AHD</th>\n",
              "    </tr>\n",
              "  </thead>\n",
              "  <tbody>\n",
              "    <tr>\n",
              "      <th>1</th>\n",
              "      <td>63</td>\n",
              "      <td>1</td>\n",
              "      <td>typical</td>\n",
              "      <td>145</td>\n",
              "      <td>233</td>\n",
              "      <td>1</td>\n",
              "      <td>2</td>\n",
              "      <td>150</td>\n",
              "      <td>0</td>\n",
              "      <td>2.3</td>\n",
              "      <td>3</td>\n",
              "      <td>0.0</td>\n",
              "      <td>fixed</td>\n",
              "      <td>1</td>\n",
              "    </tr>\n",
              "    <tr>\n",
              "      <th>2</th>\n",
              "      <td>67</td>\n",
              "      <td>1</td>\n",
              "      <td>asymptomatic</td>\n",
              "      <td>160</td>\n",
              "      <td>286</td>\n",
              "      <td>0</td>\n",
              "      <td>2</td>\n",
              "      <td>108</td>\n",
              "      <td>1</td>\n",
              "      <td>1.5</td>\n",
              "      <td>2</td>\n",
              "      <td>3.0</td>\n",
              "      <td>normal</td>\n",
              "      <td>0</td>\n",
              "    </tr>\n",
              "    <tr>\n",
              "      <th>3</th>\n",
              "      <td>67</td>\n",
              "      <td>1</td>\n",
              "      <td>asymptomatic</td>\n",
              "      <td>120</td>\n",
              "      <td>229</td>\n",
              "      <td>0</td>\n",
              "      <td>2</td>\n",
              "      <td>129</td>\n",
              "      <td>1</td>\n",
              "      <td>2.6</td>\n",
              "      <td>2</td>\n",
              "      <td>2.0</td>\n",
              "      <td>reversable</td>\n",
              "      <td>0</td>\n",
              "    </tr>\n",
              "    <tr>\n",
              "      <th>4</th>\n",
              "      <td>37</td>\n",
              "      <td>1</td>\n",
              "      <td>nonanginal</td>\n",
              "      <td>130</td>\n",
              "      <td>250</td>\n",
              "      <td>0</td>\n",
              "      <td>0</td>\n",
              "      <td>187</td>\n",
              "      <td>0</td>\n",
              "      <td>3.5</td>\n",
              "      <td>3</td>\n",
              "      <td>0.0</td>\n",
              "      <td>normal</td>\n",
              "      <td>1</td>\n",
              "    </tr>\n",
              "    <tr>\n",
              "      <th>5</th>\n",
              "      <td>41</td>\n",
              "      <td>0</td>\n",
              "      <td>nontypical</td>\n",
              "      <td>130</td>\n",
              "      <td>204</td>\n",
              "      <td>0</td>\n",
              "      <td>2</td>\n",
              "      <td>172</td>\n",
              "      <td>0</td>\n",
              "      <td>1.4</td>\n",
              "      <td>1</td>\n",
              "      <td>0.0</td>\n",
              "      <td>normal</td>\n",
              "      <td>1</td>\n",
              "    </tr>\n",
              "  </tbody>\n",
              "</table>\n",
              "</div>"
            ],
            "text/plain": [
              "   Age  Sex     ChestPain  RestBP  Chol  Fbs  RestECG  MaxHR  ExAng  Oldpeak  \\\n",
              "1   63    1       typical     145   233    1        2    150      0      2.3   \n",
              "2   67    1  asymptomatic     160   286    0        2    108      1      1.5   \n",
              "3   67    1  asymptomatic     120   229    0        2    129      1      2.6   \n",
              "4   37    1    nonanginal     130   250    0        0    187      0      3.5   \n",
              "5   41    0    nontypical     130   204    0        2    172      0      1.4   \n",
              "\n",
              "   Slope   Ca        Thal  AHD  \n",
              "1      3  0.0       fixed    1  \n",
              "2      2  3.0      normal    0  \n",
              "3      2  2.0  reversable    0  \n",
              "4      3  0.0      normal    1  \n",
              "5      1  0.0      normal    1  "
            ]
          },
          "metadata": {
            "tags": []
          },
          "execution_count": 158
        }
      ]
    },
    {
      "metadata": {
        "id": "nAYMzTW64eCM",
        "colab_type": "code",
        "colab": {}
      },
      "cell_type": "code",
      "source": [
        "df=data[['Age','RestBP','Chol','MaxHR','Oldpeak','Slope','Ca']]"
      ],
      "execution_count": 0,
      "outputs": []
    },
    {
      "metadata": {
        "id": "nfEJOu3v1WPz",
        "colab_type": "code",
        "colab": {}
      },
      "cell_type": "code",
      "source": [
        "normalized_df=(df-df.mean())/df.std()"
      ],
      "execution_count": 0,
      "outputs": []
    },
    {
      "metadata": {
        "id": "4TH658a-4GUl",
        "colab_type": "code",
        "colab": {}
      },
      "cell_type": "code",
      "source": [
        "data=data.drop(['Age','RestBP','Chol','MaxHR','Oldpeak','Slope','Ca'],axis=1)"
      ],
      "execution_count": 0,
      "outputs": []
    },
    {
      "metadata": {
        "id": "W-FsO7RO5T4D",
        "colab_type": "code",
        "colab": {}
      },
      "cell_type": "code",
      "source": [
        "data=pd.concat([data,normalized_df],axis=1)"
      ],
      "execution_count": 0,
      "outputs": []
    },
    {
      "metadata": {
        "id": "waRDRXNZ5c0j",
        "colab_type": "code",
        "colab": {
          "base_uri": "https://localhost:8080/",
          "height": 224
        },
        "outputId": "159b8a88-5768-41d5-f607-7ccbcf25287f"
      },
      "cell_type": "code",
      "source": [
        "data.head()"
      ],
      "execution_count": 164,
      "outputs": [
        {
          "output_type": "execute_result",
          "data": {
            "text/html": [
              "<div>\n",
              "<style scoped>\n",
              "    .dataframe tbody tr th:only-of-type {\n",
              "        vertical-align: middle;\n",
              "    }\n",
              "\n",
              "    .dataframe tbody tr th {\n",
              "        vertical-align: top;\n",
              "    }\n",
              "\n",
              "    .dataframe thead th {\n",
              "        text-align: right;\n",
              "    }\n",
              "</style>\n",
              "<table border=\"1\" class=\"dataframe\">\n",
              "  <thead>\n",
              "    <tr style=\"text-align: right;\">\n",
              "      <th></th>\n",
              "      <th>Sex</th>\n",
              "      <th>ChestPain</th>\n",
              "      <th>Fbs</th>\n",
              "      <th>RestECG</th>\n",
              "      <th>ExAng</th>\n",
              "      <th>Thal</th>\n",
              "      <th>AHD</th>\n",
              "      <th>Age</th>\n",
              "      <th>RestBP</th>\n",
              "      <th>Chol</th>\n",
              "      <th>MaxHR</th>\n",
              "      <th>Oldpeak</th>\n",
              "      <th>Slope</th>\n",
              "      <th>Ca</th>\n",
              "    </tr>\n",
              "  </thead>\n",
              "  <tbody>\n",
              "    <tr>\n",
              "      <th>1</th>\n",
              "      <td>1</td>\n",
              "      <td>typical</td>\n",
              "      <td>1</td>\n",
              "      <td>2</td>\n",
              "      <td>0</td>\n",
              "      <td>fixed</td>\n",
              "      <td>1</td>\n",
              "      <td>0.942752</td>\n",
              "      <td>0.752487</td>\n",
              "      <td>-0.268741</td>\n",
              "      <td>0.013079</td>\n",
              "      <td>1.080306</td>\n",
              "      <td>2.267359</td>\n",
              "      <td>-0.713504</td>\n",
              "    </tr>\n",
              "    <tr>\n",
              "      <th>2</th>\n",
              "      <td>1</td>\n",
              "      <td>asymptomatic</td>\n",
              "      <td>0</td>\n",
              "      <td>2</td>\n",
              "      <td>1</td>\n",
              "      <td>normal</td>\n",
              "      <td>0</td>\n",
              "      <td>1.383899</td>\n",
              "      <td>1.602070</td>\n",
              "      <td>0.753244</td>\n",
              "      <td>-1.824125</td>\n",
              "      <td>0.392657</td>\n",
              "      <td>0.646278</td>\n",
              "      <td>2.491938</td>\n",
              "    </tr>\n",
              "    <tr>\n",
              "      <th>3</th>\n",
              "      <td>1</td>\n",
              "      <td>asymptomatic</td>\n",
              "      <td>0</td>\n",
              "      <td>2</td>\n",
              "      <td>1</td>\n",
              "      <td>reversable</td>\n",
              "      <td>0</td>\n",
              "      <td>1.383899</td>\n",
              "      <td>-0.663484</td>\n",
              "      <td>-0.345872</td>\n",
              "      <td>-0.905523</td>\n",
              "      <td>1.338175</td>\n",
              "      <td>0.646278</td>\n",
              "      <td>1.423457</td>\n",
              "    </tr>\n",
              "    <tr>\n",
              "      <th>4</th>\n",
              "      <td>1</td>\n",
              "      <td>nonanginal</td>\n",
              "      <td>0</td>\n",
              "      <td>0</td>\n",
              "      <td>0</td>\n",
              "      <td>normal</td>\n",
              "      <td>1</td>\n",
              "      <td>-1.924708</td>\n",
              "      <td>-0.097095</td>\n",
              "      <td>0.059065</td>\n",
              "      <td>1.631569</td>\n",
              "      <td>2.111780</td>\n",
              "      <td>2.267359</td>\n",
              "      <td>-0.713504</td>\n",
              "    </tr>\n",
              "    <tr>\n",
              "      <th>5</th>\n",
              "      <td>0</td>\n",
              "      <td>nontypical</td>\n",
              "      <td>0</td>\n",
              "      <td>2</td>\n",
              "      <td>0</td>\n",
              "      <td>normal</td>\n",
              "      <td>1</td>\n",
              "      <td>-1.483561</td>\n",
              "      <td>-0.097095</td>\n",
              "      <td>-0.827940</td>\n",
              "      <td>0.975425</td>\n",
              "      <td>0.306701</td>\n",
              "      <td>-0.974803</td>\n",
              "      <td>-0.713504</td>\n",
              "    </tr>\n",
              "  </tbody>\n",
              "</table>\n",
              "</div>"
            ],
            "text/plain": [
              "   Sex     ChestPain  Fbs  RestECG  ExAng        Thal  AHD       Age  \\\n",
              "1    1       typical    1        2      0       fixed    1  0.942752   \n",
              "2    1  asymptomatic    0        2      1      normal    0  1.383899   \n",
              "3    1  asymptomatic    0        2      1  reversable    0  1.383899   \n",
              "4    1    nonanginal    0        0      0      normal    1 -1.924708   \n",
              "5    0    nontypical    0        2      0      normal    1 -1.483561   \n",
              "\n",
              "     RestBP      Chol     MaxHR   Oldpeak     Slope        Ca  \n",
              "1  0.752487 -0.268741  0.013079  1.080306  2.267359 -0.713504  \n",
              "2  1.602070  0.753244 -1.824125  0.392657  0.646278  2.491938  \n",
              "3 -0.663484 -0.345872 -0.905523  1.338175  0.646278  1.423457  \n",
              "4 -0.097095  0.059065  1.631569  2.111780  2.267359 -0.713504  \n",
              "5 -0.097095 -0.827940  0.975425  0.306701 -0.974803 -0.713504  "
            ]
          },
          "metadata": {
            "tags": []
          },
          "execution_count": 164
        }
      ]
    },
    {
      "metadata": {
        "id": "GiJQguCo6BCf",
        "colab_type": "text"
      },
      "cell_type": "markdown",
      "source": [
        "#Dummification"
      ]
    },
    {
      "metadata": {
        "id": "6lK-Ag9B5eb_",
        "colab_type": "code",
        "colab": {
          "base_uri": "https://localhost:8080/",
          "height": 224
        },
        "outputId": "eca1cab1-31c2-4f1d-94fc-a9614128bf2c"
      },
      "cell_type": "code",
      "source": [
        "heart=pd.get_dummies(data)\n",
        "heart.head()"
      ],
      "execution_count": 165,
      "outputs": [
        {
          "output_type": "execute_result",
          "data": {
            "text/html": [
              "<div>\n",
              "<style scoped>\n",
              "    .dataframe tbody tr th:only-of-type {\n",
              "        vertical-align: middle;\n",
              "    }\n",
              "\n",
              "    .dataframe tbody tr th {\n",
              "        vertical-align: top;\n",
              "    }\n",
              "\n",
              "    .dataframe thead th {\n",
              "        text-align: right;\n",
              "    }\n",
              "</style>\n",
              "<table border=\"1\" class=\"dataframe\">\n",
              "  <thead>\n",
              "    <tr style=\"text-align: right;\">\n",
              "      <th></th>\n",
              "      <th>Sex</th>\n",
              "      <th>Fbs</th>\n",
              "      <th>RestECG</th>\n",
              "      <th>ExAng</th>\n",
              "      <th>AHD</th>\n",
              "      <th>Age</th>\n",
              "      <th>RestBP</th>\n",
              "      <th>Chol</th>\n",
              "      <th>MaxHR</th>\n",
              "      <th>Oldpeak</th>\n",
              "      <th>Slope</th>\n",
              "      <th>Ca</th>\n",
              "      <th>ChestPain_asymptomatic</th>\n",
              "      <th>ChestPain_nonanginal</th>\n",
              "      <th>ChestPain_nontypical</th>\n",
              "      <th>ChestPain_typical</th>\n",
              "      <th>Thal_fixed</th>\n",
              "      <th>Thal_normal</th>\n",
              "      <th>Thal_reversable</th>\n",
              "    </tr>\n",
              "  </thead>\n",
              "  <tbody>\n",
              "    <tr>\n",
              "      <th>1</th>\n",
              "      <td>1</td>\n",
              "      <td>1</td>\n",
              "      <td>2</td>\n",
              "      <td>0</td>\n",
              "      <td>1</td>\n",
              "      <td>0.942752</td>\n",
              "      <td>0.752487</td>\n",
              "      <td>-0.268741</td>\n",
              "      <td>0.013079</td>\n",
              "      <td>1.080306</td>\n",
              "      <td>2.267359</td>\n",
              "      <td>-0.713504</td>\n",
              "      <td>0</td>\n",
              "      <td>0</td>\n",
              "      <td>0</td>\n",
              "      <td>1</td>\n",
              "      <td>1</td>\n",
              "      <td>0</td>\n",
              "      <td>0</td>\n",
              "    </tr>\n",
              "    <tr>\n",
              "      <th>2</th>\n",
              "      <td>1</td>\n",
              "      <td>0</td>\n",
              "      <td>2</td>\n",
              "      <td>1</td>\n",
              "      <td>0</td>\n",
              "      <td>1.383899</td>\n",
              "      <td>1.602070</td>\n",
              "      <td>0.753244</td>\n",
              "      <td>-1.824125</td>\n",
              "      <td>0.392657</td>\n",
              "      <td>0.646278</td>\n",
              "      <td>2.491938</td>\n",
              "      <td>1</td>\n",
              "      <td>0</td>\n",
              "      <td>0</td>\n",
              "      <td>0</td>\n",
              "      <td>0</td>\n",
              "      <td>1</td>\n",
              "      <td>0</td>\n",
              "    </tr>\n",
              "    <tr>\n",
              "      <th>3</th>\n",
              "      <td>1</td>\n",
              "      <td>0</td>\n",
              "      <td>2</td>\n",
              "      <td>1</td>\n",
              "      <td>0</td>\n",
              "      <td>1.383899</td>\n",
              "      <td>-0.663484</td>\n",
              "      <td>-0.345872</td>\n",
              "      <td>-0.905523</td>\n",
              "      <td>1.338175</td>\n",
              "      <td>0.646278</td>\n",
              "      <td>1.423457</td>\n",
              "      <td>1</td>\n",
              "      <td>0</td>\n",
              "      <td>0</td>\n",
              "      <td>0</td>\n",
              "      <td>0</td>\n",
              "      <td>0</td>\n",
              "      <td>1</td>\n",
              "    </tr>\n",
              "    <tr>\n",
              "      <th>4</th>\n",
              "      <td>1</td>\n",
              "      <td>0</td>\n",
              "      <td>0</td>\n",
              "      <td>0</td>\n",
              "      <td>1</td>\n",
              "      <td>-1.924708</td>\n",
              "      <td>-0.097095</td>\n",
              "      <td>0.059065</td>\n",
              "      <td>1.631569</td>\n",
              "      <td>2.111780</td>\n",
              "      <td>2.267359</td>\n",
              "      <td>-0.713504</td>\n",
              "      <td>0</td>\n",
              "      <td>1</td>\n",
              "      <td>0</td>\n",
              "      <td>0</td>\n",
              "      <td>0</td>\n",
              "      <td>1</td>\n",
              "      <td>0</td>\n",
              "    </tr>\n",
              "    <tr>\n",
              "      <th>5</th>\n",
              "      <td>0</td>\n",
              "      <td>0</td>\n",
              "      <td>2</td>\n",
              "      <td>0</td>\n",
              "      <td>1</td>\n",
              "      <td>-1.483561</td>\n",
              "      <td>-0.097095</td>\n",
              "      <td>-0.827940</td>\n",
              "      <td>0.975425</td>\n",
              "      <td>0.306701</td>\n",
              "      <td>-0.974803</td>\n",
              "      <td>-0.713504</td>\n",
              "      <td>0</td>\n",
              "      <td>0</td>\n",
              "      <td>1</td>\n",
              "      <td>0</td>\n",
              "      <td>0</td>\n",
              "      <td>1</td>\n",
              "      <td>0</td>\n",
              "    </tr>\n",
              "  </tbody>\n",
              "</table>\n",
              "</div>"
            ],
            "text/plain": [
              "   Sex  Fbs  RestECG  ExAng  AHD       Age    RestBP      Chol     MaxHR  \\\n",
              "1    1    1        2      0    1  0.942752  0.752487 -0.268741  0.013079   \n",
              "2    1    0        2      1    0  1.383899  1.602070  0.753244 -1.824125   \n",
              "3    1    0        2      1    0  1.383899 -0.663484 -0.345872 -0.905523   \n",
              "4    1    0        0      0    1 -1.924708 -0.097095  0.059065  1.631569   \n",
              "5    0    0        2      0    1 -1.483561 -0.097095 -0.827940  0.975425   \n",
              "\n",
              "    Oldpeak     Slope        Ca  ChestPain_asymptomatic  ChestPain_nonanginal  \\\n",
              "1  1.080306  2.267359 -0.713504                       0                     0   \n",
              "2  0.392657  0.646278  2.491938                       1                     0   \n",
              "3  1.338175  0.646278  1.423457                       1                     0   \n",
              "4  2.111780  2.267359 -0.713504                       0                     1   \n",
              "5  0.306701 -0.974803 -0.713504                       0                     0   \n",
              "\n",
              "   ChestPain_nontypical  ChestPain_typical  Thal_fixed  Thal_normal  \\\n",
              "1                     0                  1           1            0   \n",
              "2                     0                  0           0            1   \n",
              "3                     0                  0           0            0   \n",
              "4                     0                  0           0            1   \n",
              "5                     1                  0           0            1   \n",
              "\n",
              "   Thal_reversable  \n",
              "1                0  \n",
              "2                0  \n",
              "3                1  \n",
              "4                0  \n",
              "5                0  "
            ]
          },
          "metadata": {
            "tags": []
          },
          "execution_count": 165
        }
      ]
    },
    {
      "metadata": {
        "id": "ZU9pdsKV6Dcd",
        "colab_type": "code",
        "colab": {}
      },
      "cell_type": "code",
      "source": [
        "heart.drop(columns=['ChestPain_nontypical','Thal_reversable'],inplace=True)"
      ],
      "execution_count": 0,
      "outputs": []
    },
    {
      "metadata": {
        "id": "QxHL0y7r6MV2",
        "colab_type": "text"
      },
      "cell_type": "markdown",
      "source": [
        "# Model Buliding"
      ]
    },
    {
      "metadata": {
        "id": "17PUlCl_6IlD",
        "colab_type": "code",
        "colab": {}
      },
      "cell_type": "code",
      "source": [
        "x=heart.drop('AHD',axis=1)\n",
        "y=heart['AHD']"
      ],
      "execution_count": 0,
      "outputs": []
    },
    {
      "metadata": {
        "id": "pCin34CQ6Opj",
        "colab_type": "code",
        "colab": {
          "base_uri": "https://localhost:8080/",
          "height": 139
        },
        "outputId": "608d0a0f-b3e8-463c-9d20-9e3199857982"
      },
      "cell_type": "code",
      "source": [
        "LR.fit(x,y)"
      ],
      "execution_count": 168,
      "outputs": [
        {
          "output_type": "stream",
          "text": [
            "/usr/local/lib/python3.6/dist-packages/sklearn/linear_model/logistic.py:433: FutureWarning: Default solver will be changed to 'lbfgs' in 0.22. Specify a solver to silence this warning.\n",
            "  FutureWarning)\n"
          ],
          "name": "stderr"
        },
        {
          "output_type": "execute_result",
          "data": {
            "text/plain": [
              "LogisticRegression(C=1.0, class_weight=None, dual=False, fit_intercept=True,\n",
              "          intercept_scaling=1, max_iter=100, multi_class='warn',\n",
              "          n_jobs=None, penalty='l1', random_state=None, solver='warn',\n",
              "          tol=0.0001, verbose=0, warm_start=False)"
            ]
          },
          "metadata": {
            "tags": []
          },
          "execution_count": 168
        }
      ]
    },
    {
      "metadata": {
        "id": "Ih8pVNWz6Rd7",
        "colab_type": "code",
        "colab": {}
      },
      "cell_type": "code",
      "source": [
        "pred_y=LR.predict(x)"
      ],
      "execution_count": 0,
      "outputs": []
    },
    {
      "metadata": {
        "id": "vbGO_Kyp6XMJ",
        "colab_type": "code",
        "colab": {
          "base_uri": "https://localhost:8080/",
          "height": 34
        },
        "outputId": "7119f2b4-b7db-41cc-c3f0-1d892eefdcd4"
      },
      "cell_type": "code",
      "source": [
        "accuracy_score(y,pred_y)"
      ],
      "execution_count": 170,
      "outputs": [
        {
          "output_type": "execute_result",
          "data": {
            "text/plain": [
              "0.8704318936877077"
            ]
          },
          "metadata": {
            "tags": []
          },
          "execution_count": 170
        }
      ]
    },
    {
      "metadata": {
        "id": "YdnBYyAz6bMA",
        "colab_type": "code",
        "colab": {
          "base_uri": "https://localhost:8080/",
          "height": 258
        },
        "outputId": "ef6c6a34-218a-418c-9068-383906b1ebca"
      },
      "cell_type": "code",
      "source": [
        "x=x.values\n",
        "y=y.values\n",
        "from sklearn.model_selection import KFold\n",
        "import numpy as np\n",
        "kf = KFold(n_splits=5,shuffle=True,random_state=2)\n",
        "acc=[]\n",
        "pre=[]\n",
        "recall=[]\n",
        "for train,test in kf.split(x,y):\n",
        "    M = LogisticRegression(penalty='l2')\n",
        "    xtrain,xtest = x[train,:],x[test,:]\n",
        "    ytrain,ytest = y[train],y[test]\n",
        "    M.fit(xtrain,ytrain)\n",
        "    ypredict = M.predict(xtest)\n",
        "    acc.append(accuracy_score(ytest,ypredict))\n",
        "    pre.append(precision_score(ytest,ypredict))\n",
        "    recall.append(recall_score(ytest,ypredict))\n",
        "print('Cross validation score:%.2f%%'%np.mean(acc))\n",
        "print('Accuracy score:%.2f%%'%np.mean(pre))\n",
        "print('Recall score:%.2f%%'%np.mean(recall))"
      ],
      "execution_count": 171,
      "outputs": [
        {
          "output_type": "stream",
          "text": [
            "Cross validation score:0.85%\n",
            "Accuracy score:0.84%\n",
            "Recall score:0.89%\n"
          ],
          "name": "stdout"
        },
        {
          "output_type": "stream",
          "text": [
            "/usr/local/lib/python3.6/dist-packages/sklearn/linear_model/logistic.py:433: FutureWarning: Default solver will be changed to 'lbfgs' in 0.22. Specify a solver to silence this warning.\n",
            "  FutureWarning)\n",
            "/usr/local/lib/python3.6/dist-packages/sklearn/linear_model/logistic.py:433: FutureWarning: Default solver will be changed to 'lbfgs' in 0.22. Specify a solver to silence this warning.\n",
            "  FutureWarning)\n",
            "/usr/local/lib/python3.6/dist-packages/sklearn/linear_model/logistic.py:433: FutureWarning: Default solver will be changed to 'lbfgs' in 0.22. Specify a solver to silence this warning.\n",
            "  FutureWarning)\n",
            "/usr/local/lib/python3.6/dist-packages/sklearn/linear_model/logistic.py:433: FutureWarning: Default solver will be changed to 'lbfgs' in 0.22. Specify a solver to silence this warning.\n",
            "  FutureWarning)\n",
            "/usr/local/lib/python3.6/dist-packages/sklearn/linear_model/logistic.py:433: FutureWarning: Default solver will be changed to 'lbfgs' in 0.22. Specify a solver to silence this warning.\n",
            "  FutureWarning)\n"
          ],
          "name": "stderr"
        }
      ]
    },
    {
      "metadata": {
        "id": "fGmZUa3X6fyv",
        "colab_type": "code",
        "colab": {
          "base_uri": "https://localhost:8080/",
          "height": 393
        },
        "outputId": "db8d98c6-ef2a-4a87-af80-2459fa8e18d1"
      },
      "cell_type": "code",
      "source": [
        "from sklearn.metrics import roc_curve,auc\n",
        "import matplotlib.pyplot as plt\n",
        "fpr,tpr,_ =roc_curve(ytest,ypredict) #  roc_curve(ytest,ypredict of confusion)--> Confusion matric result\n",
        "roc_auc = auc(fpr,tpr)\n",
        "print(roc_auc)\n",
        "plt.figure()\n",
        "plt.plot(fpr,tpr)\n",
        "plt.xlim([0.0,1.0])\n",
        "plt.ylim([0.0,1.0])\n",
        "plt.xlabel('False positive rate')\n",
        "plt.ylabel('True positive rate')\n",
        "plt.title('Reciver operating charecteristic')\n",
        "plt.show()"
      ],
      "execution_count": 172,
      "outputs": [
        {
          "output_type": "stream",
          "text": [
            "0.8171428571428571\n"
          ],
          "name": "stdout"
        },
        {
          "output_type": "display_data",
          "data": {
            "image/png": "[encoded data removed]",
            "text/plain": [
              "<Figure size 576x396 with 1 Axes>"
            ]
          },
          "metadata": {
            "tags": []
          }
        }
      ]
    },
    {
      "metadata": {
        "id": "iE3KOsgbCmB1",
        "colab_type": "text"
      },
      "cell_type": "markdown",
      "source": [
        "# SMOTE"
      ]
    },
    {
      "metadata": {
        "id": "dVqxae4c6iqh",
        "colab_type": "code",
        "colab": {
          "base_uri": "https://localhost:8080/",
          "height": 156
        },
        "outputId": "893c5fa7-3390-41c7-a84e-ae7365a0af36"
      },
      "cell_type": "code",
      "source": [
        "from sklearn.model_selection import train_test_split \n",
        "X = heart.loc[:, heart.columns != 'AHD']\n",
        "y = heart.loc[:, heart.columns == 'AHD']\n",
        "from imblearn.over_sampling import SMOTE\n",
        "os = SMOTE(random_state=0)\n",
        "X_train, X_test, y_train, y_test = train_test_split(X, y, test_size=0.3, random_state=0)\n",
        "columns = X_train.columns\n",
        "os_data_X,os_data_y=os.fit_sample(X_train, y_train)\n",
        "\n",
        "os_data_X = pd.DataFrame(data=os_data_X,columns=columns )\n",
        "os_data_y= pd.DataFrame(data=os_data_y,columns=['y'])\n",
        "# we can Check the numbers of our data\n",
        "print(\"length of oversampled data is \",len(os_data_X))\n",
        "print(\"Number of no subscription in oversampled data\",len(os_data_y[os_data_y['y']==0]))\n",
        "print(\"Number of subscription\",len(os_data_y[os_data_y['y']==1]))\n",
        "print(\"Proportion of no subscription data in oversampled data is \",len(os_data_y[os_data_y['y']==0])/len(os_data_X))\n",
        "print(\"Proportion of subscription data in oversampled data is \",len(os_data_y[os_data_y['y']==1])/len(os_data_X))"
      ],
      "execution_count": 190,
      "outputs": [
        {
          "output_type": "stream",
          "text": [
            "length of oversampled data is  226\n",
            "Number of no subscription in oversampled data 113\n",
            "Number of subscription 113\n",
            "Proportion of no subscription data in oversampled data is  0.5\n",
            "Proportion of subscription data in oversampled data is  0.5\n"
          ],
          "name": "stdout"
        },
        {
          "output_type": "stream",
          "text": [
            "/usr/local/lib/python3.6/dist-packages/sklearn/utils/validation.py:761: DataConversionWarning: A column-vector y was passed when a 1d array was expected. Please change the shape of y to (n_samples, ), for example using ravel().\n",
            "  y = column_or_1d(y, warn=True)\n"
          ],
          "name": "stderr"
        }
      ]
    },
    {
      "metadata": {
        "id": "OCg4lnSLG3m7",
        "colab_type": "text"
      },
      "cell_type": "markdown",
      "source": [
        "#RFE --> Recursive Feature Elimination"
      ]
    },
    {
      "metadata": {
        "id": "2h23Y9QPC7Rq",
        "colab_type": "code",
        "colab": {
          "base_uri": "https://localhost:8080/",
          "height": 479
        },
        "outputId": "eda54fbe-b731-4292-ed4f-062cab24afb6"
      },
      "cell_type": "code",
      "source": [
        "data_final_vars=heart.columns.values.tolist()\n",
        "y=['AHD']\n",
        "X=[i for i in data_final_vars if i not in y]\n",
        "from sklearn.feature_selection import RFE\n",
        "from sklearn.linear_model import LogisticRegression\n",
        "logreg = LogisticRegression()\n",
        "rfe = RFE(logreg, 6)\n",
        "rfe = rfe.fit(os_data_X, os_data_y.values.ravel())\n",
        "print(rfe.support_)\n",
        "print(rfe.ranking_)\n",
        "print(data_final_vars)"
      ],
      "execution_count": 193,
      "outputs": [
        {
          "output_type": "stream",
          "text": [
            "[False False False  True False False False False False False  True  True\n",
            "  True False  True  True]\n",
            "[ 2  6  9  1 11  4 10  7  5  3  1  1  1  8  1  1]\n",
            "['Sex', 'Fbs', 'RestECG', 'ExAng', 'AHD', 'Age', 'RestBP', 'Chol', 'MaxHR', 'Oldpeak', 'Slope', 'Ca', 'ChestPain_asymptomatic', 'ChestPain_nonanginal', 'ChestPain_typical', 'Thal_fixed', 'Thal_normal']\n"
          ],
          "name": "stdout"
        },
        {
          "output_type": "stream",
          "text": [
            "/usr/local/lib/python3.6/dist-packages/sklearn/linear_model/logistic.py:433: FutureWarning: Default solver will be changed to 'lbfgs' in 0.22. Specify a solver to silence this warning.\n",
            "  FutureWarning)\n",
            "/usr/local/lib/python3.6/dist-packages/sklearn/linear_model/logistic.py:433: FutureWarning: Default solver will be changed to 'lbfgs' in 0.22. Specify a solver to silence this warning.\n",
            "  FutureWarning)\n",
            "/usr/local/lib/python3.6/dist-packages/sklearn/linear_model/logistic.py:433: FutureWarning: Default solver will be changed to 'lbfgs' in 0.22. Specify a solver to silence this warning.\n",
            "  FutureWarning)\n",
            "/usr/local/lib/python3.6/dist-packages/sklearn/linear_model/logistic.py:433: FutureWarning: Default solver will be changed to 'lbfgs' in 0.22. Specify a solver to silence this warning.\n",
            "  FutureWarning)\n",
            "/usr/local/lib/python3.6/dist-packages/sklearn/linear_model/logistic.py:433: FutureWarning: Default solver will be changed to 'lbfgs' in 0.22. Specify a solver to silence this warning.\n",
            "  FutureWarning)\n",
            "/usr/local/lib/python3.6/dist-packages/sklearn/linear_model/logistic.py:433: FutureWarning: Default solver will be changed to 'lbfgs' in 0.22. Specify a solver to silence this warning.\n",
            "  FutureWarning)\n",
            "/usr/local/lib/python3.6/dist-packages/sklearn/linear_model/logistic.py:433: FutureWarning: Default solver will be changed to 'lbfgs' in 0.22. Specify a solver to silence this warning.\n",
            "  FutureWarning)\n",
            "/usr/local/lib/python3.6/dist-packages/sklearn/linear_model/logistic.py:433: FutureWarning: Default solver will be changed to 'lbfgs' in 0.22. Specify a solver to silence this warning.\n",
            "  FutureWarning)\n",
            "/usr/local/lib/python3.6/dist-packages/sklearn/linear_model/logistic.py:433: FutureWarning: Default solver will be changed to 'lbfgs' in 0.22. Specify a solver to silence this warning.\n",
            "  FutureWarning)\n",
            "/usr/local/lib/python3.6/dist-packages/sklearn/linear_model/logistic.py:433: FutureWarning: Default solver will be changed to 'lbfgs' in 0.22. Specify a solver to silence this warning.\n",
            "  FutureWarning)\n",
            "/usr/local/lib/python3.6/dist-packages/sklearn/linear_model/logistic.py:433: FutureWarning: Default solver will be changed to 'lbfgs' in 0.22. Specify a solver to silence this warning.\n",
            "  FutureWarning)\n"
          ],
          "name": "stderr"
        }
      ]
    },
    {
      "metadata": {
        "id": "-0HfYJxfInT9",
        "colab_type": "text"
      },
      "cell_type": "markdown",
      "source": [
        "# Feature Selection"
      ]
    },
    {
      "metadata": {
        "id": "daJdqvBAFHPY",
        "colab_type": "code",
        "colab": {
          "base_uri": "https://localhost:8080/",
          "height": 578
        },
        "outputId": "67be29d2-a7a8-4234-d60e-23ab49ebd1ac"
      },
      "cell_type": "code",
      "source": [
        "import statsmodels.api as sm\n",
        "logit_model=sm.Logit(y,x)\n",
        "result=logit_model.fit()\n",
        "print(result.summary2())"
      ],
      "execution_count": 196,
      "outputs": [
        {
          "output_type": "stream",
          "text": [
            "Optimization terminated successfully.\n",
            "         Current function value: 0.328131\n",
            "         Iterations 7\n",
            "                            Results: Logit\n",
            "======================================================================\n",
            "Model:                 Logit              No. Iterations:     7.0000  \n",
            "Dependent Variable:    AHD                Pseudo R-squared:   0.524   \n",
            "Date:                  2019-02-02 16:55   AIC:                229.5351\n",
            "No. Observations:      301                BIC:                288.8489\n",
            "Df Model:              15                 Log-Likelihood:     -98.768 \n",
            "Df Residuals:          285                LL-Null:            -207.60 \n",
            "Converged:             1.0000             Scale:              1.0000  \n",
            "----------------------------------------------------------------------\n",
            "                        Coef.  Std.Err.    z    P>|z|   [0.025  0.975]\n",
            "----------------------------------------------------------------------\n",
            "Sex                    -1.0882   0.4062 -2.6791 0.0074 -1.8843 -0.2921\n",
            "Fbs                     0.5645   0.5909  0.9553 0.3394 -0.5937  1.7228\n",
            "RestECG                -0.2518   0.1880 -1.3392 0.1805 -0.6202  0.1167\n",
            "ExAng                  -0.6838   0.4285 -1.5959 0.1105 -1.5236  0.1560\n",
            "Age                     0.1635   0.2195  0.7447 0.4564 -0.2667  0.5936\n",
            "RestBP                 -0.4268   0.1975 -2.1615 0.0307 -0.8139 -0.0398\n",
            "Chol                   -0.2280   0.1995 -1.1427 0.2532 -0.6190  0.1631\n",
            "MaxHR                   0.5001   0.2473  2.0221 0.0432  0.0154  0.9848\n",
            "Oldpeak                -0.4732   0.2654 -1.7828 0.0746 -0.9934  0.0470\n",
            "Slope                  -0.3902   0.2270 -1.7190 0.0856 -0.8351  0.0547\n",
            "Ca                     -1.2309   0.2537 -4.8512 0.0000 -1.7281 -0.7336\n",
            "ChestPain_asymptomatic -0.6941   0.4476 -1.5506 0.1210 -1.5715  0.1833\n",
            "ChestPain_nonanginal    1.1324   0.5149  2.1990 0.0279  0.1231  2.1417\n",
            "ChestPain_typical       1.2943   0.6878  1.8818 0.0599 -0.0537  2.6423\n",
            "Thal_fixed              1.5307   0.7726  1.9811 0.0476  0.0163  3.0450\n",
            "Thal_normal             1.6808   0.3469  4.8449 0.0000  1.0009  2.3608\n",
            "======================================================================\n",
            "\n"
          ],
          "name": "stdout"
        }
      ]
    },
    {
      "metadata": {
        "id": "UcCzl7GqKEQj",
        "colab_type": "text"
      },
      "cell_type": "markdown",
      "source": [
        " p-values should be less than 0.05"
      ]
    },
    {
      "metadata": {
        "id": "hMvRuEy_IrcY",
        "colab_type": "code",
        "colab": {}
      },
      "cell_type": "code",
      "source": [
        "col=['Sex','RestBP','MaxHR','Ca','ChestPain_nonanginal','Thal_fixed','Thal_normal']"
      ],
      "execution_count": 0,
      "outputs": []
    },
    {
      "metadata": {
        "id": "ck5xdkFNKrUm",
        "colab_type": "code",
        "colab": {}
      },
      "cell_type": "code",
      "source": [
        "x=heart[col]"
      ],
      "execution_count": 0,
      "outputs": []
    },
    {
      "metadata": {
        "id": "MJQIq_j_KvI-",
        "colab_type": "code",
        "colab": {
          "base_uri": "https://localhost:8080/",
          "height": 425
        },
        "outputId": "eb1341e0-fd59-4995-d21f-42106b20f9ae"
      },
      "cell_type": "code",
      "source": [
        "import statsmodels.api as sm\n",
        "logit_model=sm.Logit(y,x)\n",
        "result=logit_model.fit()\n",
        "print(result.summary2())"
      ],
      "execution_count": 199,
      "outputs": [
        {
          "output_type": "stream",
          "text": [
            "Optimization terminated successfully.\n",
            "         Current function value: 0.392557\n",
            "         Iterations 7\n",
            "                           Results: Logit\n",
            "====================================================================\n",
            "Model:                 Logit             No. Iterations:    7.0000  \n",
            "Dependent Variable:    AHD               Pseudo R-squared:  0.431   \n",
            "Date:                  2019-02-02 17:04  AIC:               250.3193\n",
            "No. Observations:      301               BIC:               276.2691\n",
            "Df Model:              6                 Log-Likelihood:    -118.16 \n",
            "Df Residuals:          294               LL-Null:           -207.60 \n",
            "Converged:             1.0000            Scale:             1.0000  \n",
            "--------------------------------------------------------------------\n",
            "                      Coef.  Std.Err.    z    P>|z|   [0.025  0.975]\n",
            "--------------------------------------------------------------------\n",
            "Sex                  -1.3482   0.2525 -5.3395 0.0000 -1.8430 -0.8533\n",
            "RestBP               -0.3488   0.1595 -2.1873 0.0287 -0.6613 -0.0363\n",
            "MaxHR                 0.8643   0.1908  4.5296 0.0000  0.4903  1.2383\n",
            "Ca                   -1.0393   0.1937 -5.3652 0.0000 -1.4190 -0.6597\n",
            "ChestPain_nonanginal  1.2006   0.3861  3.1099 0.0019  0.4439  1.9572\n",
            "Thal_fixed            1.0097   0.6403  1.5770 0.1148 -0.2452  2.2646\n",
            "Thal_normal           1.4935   0.2782  5.3690 0.0000  0.9483  2.0387\n",
            "====================================================================\n",
            "\n"
          ],
          "name": "stdout"
        }
      ]
    },
    {
      "metadata": {
        "id": "RWUNjT_TKyBW",
        "colab_type": "code",
        "colab": {}
      },
      "cell_type": "code",
      "source": [
        "# col=['Sex','RestBP','MaxHR','Ca','ChestPain_nonanginal','Thal_normal']\n",
        "x=heart[col]"
      ],
      "execution_count": 0,
      "outputs": []
    },
    {
      "metadata": {
        "id": "6P6YYab-K6x1",
        "colab_type": "code",
        "colab": {
          "base_uri": "https://localhost:8080/",
          "height": 408
        },
        "outputId": "70044260-eee7-4a81-ccba-493a46aca455"
      },
      "cell_type": "code",
      "source": [
        "import statsmodels.api as sm\n",
        "logit_model=sm.Logit(y,x)\n",
        "result=logit_model.fit()\n",
        "print(result.summary2())"
      ],
      "execution_count": 203,
      "outputs": [
        {
          "output_type": "stream",
          "text": [
            "Optimization terminated successfully.\n",
            "         Current function value: 0.396524\n",
            "         Iterations 7\n",
            "                           Results: Logit\n",
            "====================================================================\n",
            "Model:                 Logit             No. Iterations:    7.0000  \n",
            "Dependent Variable:    AHD               Pseudo R-squared:  0.425   \n",
            "Date:                  2019-02-02 17:05  AIC:               250.7076\n",
            "No. Observations:      301               BIC:               272.9502\n",
            "Df Model:              5                 Log-Likelihood:    -119.35 \n",
            "Df Residuals:          295               LL-Null:           -207.60 \n",
            "Converged:             1.0000            Scale:             1.0000  \n",
            "--------------------------------------------------------------------\n",
            "                      Coef.  Std.Err.    z    P>|z|   [0.025  0.975]\n",
            "--------------------------------------------------------------------\n",
            "Sex                  -1.2226   0.2341 -5.2230 0.0000 -1.6813 -0.7638\n",
            "RestBP               -0.3343   0.1586 -2.1072 0.0351 -0.6453 -0.0234\n",
            "MaxHR                 0.8191   0.1840  4.4528 0.0000  0.4586  1.1796\n",
            "Ca                   -1.0348   0.1930 -5.3618 0.0000 -1.4131 -0.6566\n",
            "ChestPain_nonanginal  1.1946   0.3852  3.1013 0.0019  0.4396  1.9496\n",
            "Thal_normal           1.4224   0.2707  5.2553 0.0000  0.8919  1.9529\n",
            "====================================================================\n",
            "\n"
          ],
          "name": "stdout"
        }
      ]
    },
    {
      "metadata": {
        "id": "p7V7CBLALCJh",
        "colab_type": "code",
        "colab": {
          "base_uri": "https://localhost:8080/",
          "height": 139
        },
        "outputId": "446c6f68-65e7-47ab-94b0-7f52ca00b195"
      },
      "cell_type": "code",
      "source": [
        "from sklearn.linear_model import LogisticRegression\n",
        "from sklearn import metrics\n",
        "X_train, X_test, y_train, y_test = train_test_split(x, y, test_size=0.3, random_state=0)\n",
        "logreg = LogisticRegression()\n",
        "logreg.fit(X_train, y_train)"
      ],
      "execution_count": 204,
      "outputs": [
        {
          "output_type": "stream",
          "text": [
            "/usr/local/lib/python3.6/dist-packages/sklearn/linear_model/logistic.py:433: FutureWarning: Default solver will be changed to 'lbfgs' in 0.22. Specify a solver to silence this warning.\n",
            "  FutureWarning)\n"
          ],
          "name": "stderr"
        },
        {
          "output_type": "execute_result",
          "data": {
            "text/plain": [
              "LogisticRegression(C=1.0, class_weight=None, dual=False, fit_intercept=True,\n",
              "          intercept_scaling=1, max_iter=100, multi_class='warn',\n",
              "          n_jobs=None, penalty='l2', random_state=None, solver='warn',\n",
              "          tol=0.0001, verbose=0, warm_start=False)"
            ]
          },
          "metadata": {
            "tags": []
          },
          "execution_count": 204
        }
      ]
    },
    {
      "metadata": {
        "id": "qLxGqVKmLSdx",
        "colab_type": "code",
        "colab": {}
      },
      "cell_type": "code",
      "source": [
        "pred_y=logreg.predict(X_test)"
      ],
      "execution_count": 0,
      "outputs": []
    },
    {
      "metadata": {
        "id": "99TttxT_LMyc",
        "colab_type": "code",
        "colab": {
          "base_uri": "https://localhost:8080/",
          "height": 34
        },
        "outputId": "83e6441c-5433-4894-d364-2982f846a607"
      },
      "cell_type": "code",
      "source": [
        "accuracy_score(pred_y,y_test)"
      ],
      "execution_count": 206,
      "outputs": [
        {
          "output_type": "execute_result",
          "data": {
            "text/plain": [
              "0.8241758241758241"
            ]
          },
          "metadata": {
            "tags": []
          },
          "execution_count": 206
        }
      ]
    },
    {
      "metadata": {
        "id": "FQEorcKULe-V",
        "colab_type": "code",
        "colab": {
          "base_uri": "https://localhost:8080/",
          "height": 34
        },
        "outputId": "ff8998cb-412c-47a7-9868-0181b5029acd"
      },
      "cell_type": "code",
      "source": [
        "logreg.score(X_test,y_test)"
      ],
      "execution_count": 207,
      "outputs": [
        {
          "output_type": "execute_result",
          "data": {
            "text/plain": [
              "0.8241758241758241"
            ]
          },
          "metadata": {
            "tags": []
          },
          "execution_count": 207
        }
      ]
    },
    {
      "metadata": {
        "id": "JBsp_FGeLuLX",
        "colab_type": "code",
        "colab": {}
      },
      "cell_type": "code",
      "source": [
        ""
      ],
      "execution_count": 0,
      "outputs": []
    }
  ]
}