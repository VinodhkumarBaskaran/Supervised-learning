{
  "nbformat": 4,
  "nbformat_minor": 0,
  "metadata": {
    "colab": {
      "name": "Linear Regression.ipynb",
      "version": "0.3.2",
      "provenance": []
    },
    "kernelspec": {
      "name": "python3",
      "display_name": "Python 3"
    }
  },
  "cells": [
    {
      "metadata": {
        "id": "ba2C6sBiZmFN",
        "colab_type": "code",
        "outputId": "9959d354-cfbc-4eb6-b7ea-6f1f81149be5",
        "colab": {
          "resources": {
            "http://localhost:8080/nbextensions/google.colab/files.js": {
              "data": "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",
              "ok": true,
              "headers": [
                [
                  "content-type",
                  "application/javascript"
                ]
              ],
              "status": 200,
              "status_text": ""
            }
          },
          "base_uri": "https://localhost:8080/",
          "height": 72
        }
      },
      "cell_type": "code",
      "source": [
        "from google.colab import files\n",
        "uploaded = files.upload()"
      ],
      "execution_count": 2,
      "outputs": [
        {
          "output_type": "display_data",
          "data": {
            "text/html": [
              "\n",
              "     <input type=\"file\" id=\"files-4a2f335b-6c80-4b49-9cf9-cd2f3d29895b\" name=\"files[]\" multiple disabled />\n",
              "     <output id=\"result-4a2f335b-6c80-4b49-9cf9-cd2f3d29895b\">\n",
              "      Upload widget is only available when the cell has been executed in the\n",
              "      current browser session. Please rerun this cell to enable.\n",
              "      </output>\n",
              "      <script src=\"/nbextensions/google.colab/files.js\"></script> "
            ],
            "text/plain": [
              "<IPython.core.display.HTML object>"
            ]
          },
          "metadata": {
            "tags": []
          }
        },
        {
          "output_type": "stream",
          "text": [
            "Saving machine.data.txt to machine.data.txt\n"
          ],
          "name": "stdout"
        }
      ]
    },
    {
      "metadata": {
        "id": "yOfG6gZCZnPf",
        "colab_type": "code",
        "colab": {}
      },
      "cell_type": "code",
      "source": [
        "import numpy as np # linear algebra\n",
        "import pandas as pd # data processing, CSV file I/O (e.g. pd.read_csv)\n",
        "from sklearn import model_selection, preprocessing, metrics\n",
        "import lightgbm as lgb\n",
        "from sklearn.linear_model import LinearRegression\n",
        "from sklearn.model_selection import KFold\n",
        "import statsmodels.formula.api as smf\n",
        "import seaborn as sns\n",
        "import matplotlib.pyplot as plt\n"
      ],
      "execution_count": 0,
      "outputs": []
    },
    {
      "metadata": {
        "id": "e9xt3lZVbp-U",
        "colab_type": "code",
        "colab": {}
      },
      "cell_type": "code",
      "source": [
        "col=['model','MYCT','MMIN','MMAX','CACH','CHMIN','CHMAX','PRP','ERP']"
      ],
      "execution_count": 0,
      "outputs": []
    },
    {
      "metadata": {
        "id": "HmAugjHcZ1BU",
        "colab_type": "code",
        "colab": {}
      },
      "cell_type": "code",
      "source": [
        "data=pd.read_table('machine.data.txt',delimiter=',',names=col)"
      ],
      "execution_count": 0,
      "outputs": []
    },
    {
      "metadata": {
        "id": "38YbDXYZam2d",
        "colab_type": "code",
        "outputId": "f45566c5-0850-4b66-c59c-285f029aa25c",
        "colab": {
          "base_uri": "https://localhost:8080/",
          "height": 34
        }
      },
      "cell_type": "code",
      "source": [
        "data.head()\n",
        "data.shape"
      ],
      "execution_count": 6,
      "outputs": [
        {
          "output_type": "execute_result",
          "data": {
            "text/plain": [
              "(209, 9)"
            ]
          },
          "metadata": {
            "tags": []
          },
          "execution_count": 6
        }
      ]
    },
    {
      "metadata": {
        "id": "lCDwZmshaput",
        "colab_type": "code",
        "colab": {}
      },
      "cell_type": "code",
      "source": [
        "y=data['ERP']\n",
        "x=data.drop(['model','PRP','ERP'],axis=1)"
      ],
      "execution_count": 0,
      "outputs": []
    },
    {
      "metadata": {
        "id": "IeThqS3nf2RL",
        "colab_type": "code",
        "outputId": "a7424d37-e853-4653-826b-b3eb3940304e",
        "colab": {
          "base_uri": "https://localhost:8080/",
          "height": 204
        }
      },
      "cell_type": "code",
      "source": [
        "x.head()"
      ],
      "execution_count": 8,
      "outputs": [
        {
          "output_type": "execute_result",
          "data": {
            "text/html": [
              "<div>\n",
              "<style scoped>\n",
              "    .dataframe tbody tr th:only-of-type {\n",
              "        vertical-align: middle;\n",
              "    }\n",
              "\n",
              "    .dataframe tbody tr th {\n",
              "        vertical-align: top;\n",
              "    }\n",
              "\n",
              "    .dataframe thead th {\n",
              "        text-align: right;\n",
              "    }\n",
              "</style>\n",
              "<table border=\"1\" class=\"dataframe\">\n",
              "  <thead>\n",
              "    <tr style=\"text-align: right;\">\n",
              "      <th></th>\n",
              "      <th>MYCT</th>\n",
              "      <th>MMIN</th>\n",
              "      <th>MMAX</th>\n",
              "      <th>CACH</th>\n",
              "      <th>CHMIN</th>\n",
              "      <th>CHMAX</th>\n",
              "    </tr>\n",
              "  </thead>\n",
              "  <tbody>\n",
              "    <tr>\n",
              "      <th>adviser</th>\n",
              "      <td>125</td>\n",
              "      <td>256</td>\n",
              "      <td>6000</td>\n",
              "      <td>256</td>\n",
              "      <td>16</td>\n",
              "      <td>128</td>\n",
              "    </tr>\n",
              "    <tr>\n",
              "      <th>amdahl</th>\n",
              "      <td>29</td>\n",
              "      <td>8000</td>\n",
              "      <td>32000</td>\n",
              "      <td>32</td>\n",
              "      <td>8</td>\n",
              "      <td>32</td>\n",
              "    </tr>\n",
              "    <tr>\n",
              "      <th>amdahl</th>\n",
              "      <td>29</td>\n",
              "      <td>8000</td>\n",
              "      <td>32000</td>\n",
              "      <td>32</td>\n",
              "      <td>8</td>\n",
              "      <td>32</td>\n",
              "    </tr>\n",
              "    <tr>\n",
              "      <th>amdahl</th>\n",
              "      <td>29</td>\n",
              "      <td>8000</td>\n",
              "      <td>32000</td>\n",
              "      <td>32</td>\n",
              "      <td>8</td>\n",
              "      <td>32</td>\n",
              "    </tr>\n",
              "    <tr>\n",
              "      <th>amdahl</th>\n",
              "      <td>29</td>\n",
              "      <td>8000</td>\n",
              "      <td>16000</td>\n",
              "      <td>32</td>\n",
              "      <td>8</td>\n",
              "      <td>16</td>\n",
              "    </tr>\n",
              "  </tbody>\n",
              "</table>\n",
              "</div>"
            ],
            "text/plain": [
              "         MYCT  MMIN   MMAX  CACH  CHMIN  CHMAX\n",
              "adviser   125   256   6000   256     16    128\n",
              "amdahl     29  8000  32000    32      8     32\n",
              "amdahl     29  8000  32000    32      8     32\n",
              "amdahl     29  8000  32000    32      8     32\n",
              "amdahl     29  8000  16000    32      8     16"
            ]
          },
          "metadata": {
            "tags": []
          },
          "execution_count": 8
        }
      ]
    },
    {
      "metadata": {
        "id": "8rLFBmyUdprD",
        "colab_type": "code",
        "colab": {}
      },
      "cell_type": "code",
      "source": [
        "from sklearn.linear_model import LinearRegression\n",
        "model= LinearRegression()"
      ],
      "execution_count": 0,
      "outputs": []
    },
    {
      "metadata": {
        "id": "Uq_-63YWeJvX",
        "colab_type": "code",
        "colab": {}
      },
      "cell_type": "code",
      "source": [
        "from sklearn.model_selection import train_test_split\n",
        "x_train,x_test,y_train,y_test=train_test_split(x,y,test_size =0.2,random_state =100)"
      ],
      "execution_count": 0,
      "outputs": []
    },
    {
      "metadata": {
        "id": "YQ6oYZ3Oeq4x",
        "colab_type": "code",
        "outputId": "6b091910-5f94-4c8c-b52c-47dccc817a5d",
        "colab": {
          "base_uri": "https://localhost:8080/",
          "height": 51
        }
      },
      "cell_type": "code",
      "source": [
        "model.fit(x,y)"
      ],
      "execution_count": 11,
      "outputs": [
        {
          "output_type": "execute_result",
          "data": {
            "text/plain": [
              "LinearRegression(copy_X=True, fit_intercept=True, n_jobs=None,\n",
              "         normalize=False)"
            ]
          },
          "metadata": {
            "tags": []
          },
          "execution_count": 11
        }
      ]
    },
    {
      "metadata": {
        "id": "zs-1rSL6h_ui",
        "colab_type": "code",
        "outputId": "d73f2de5-c95e-4efb-abee-acae4481d37a",
        "colab": {
          "base_uri": "https://localhost:8080/",
          "height": 34
        }
      },
      "cell_type": "code",
      "source": [
        "model.score(x,y)"
      ],
      "execution_count": 12,
      "outputs": [
        {
          "output_type": "execute_result",
          "data": {
            "text/plain": [
              "0.9108693747168685"
            ]
          },
          "metadata": {
            "tags": []
          },
          "execution_count": 12
        }
      ]
    },
    {
      "metadata": {
        "id": "vb4PPRnokIzW",
        "colab_type": "code",
        "colab": {}
      },
      "cell_type": "code",
      "source": [
        "pred_y=model.predict(x)"
      ],
      "execution_count": 0,
      "outputs": []
    },
    {
      "metadata": {
        "id": "db6xuLP9hn-r",
        "colab_type": "code",
        "colab": {}
      },
      "cell_type": "code",
      "source": [
        "import statsmodels.formula.api as smf\n",
        "model1=smf.ols('ERP~MMIN+MMAX+MYCT+CACH+CHMIN+CHMAX',data).fit()"
      ],
      "execution_count": 0,
      "outputs": []
    },
    {
      "metadata": {
        "id": "PgcOPRv2iZmx",
        "colab_type": "code",
        "outputId": "54035564-bc9f-4897-a379-8c670ecf1ca5",
        "colab": {
          "base_uri": "https://localhost:8080/",
          "height": 481
        }
      },
      "cell_type": "code",
      "source": [
        "model1.summary()"
      ],
      "execution_count": 15,
      "outputs": [
        {
          "output_type": "execute_result",
          "data": {
            "text/html": [
              "<table class=\"simpletable\">\n",
              "<caption>OLS Regression Results</caption>\n",
              "<tr>\n",
              "  <th>Dep. Variable:</th>           <td>ERP</td>       <th>  R-squared:         </th> <td>   0.911</td> \n",
              "</tr>\n",
              "<tr>\n",
              "  <th>Model:</th>                   <td>OLS</td>       <th>  Adj. R-squared:    </th> <td>   0.908</td> \n",
              "</tr>\n",
              "<tr>\n",
              "  <th>Method:</th>             <td>Least Squares</td>  <th>  F-statistic:       </th> <td>   344.1</td> \n",
              "</tr>\n",
              "<tr>\n",
              "  <th>Date:</th>             <td>Sat, 02 Feb 2019</td> <th>  Prob (F-statistic):</th> <td>3.92e-103</td>\n",
              "</tr>\n",
              "<tr>\n",
              "  <th>Time:</th>                 <td>03:12:44</td>     <th>  Log-Likelihood:    </th> <td> -1097.2</td> \n",
              "</tr>\n",
              "<tr>\n",
              "  <th>No. Observations:</th>      <td>   209</td>      <th>  AIC:               </th> <td>   2208.</td> \n",
              "</tr>\n",
              "<tr>\n",
              "  <th>Df Residuals:</th>          <td>   202</td>      <th>  BIC:               </th> <td>   2232.</td> \n",
              "</tr>\n",
              "<tr>\n",
              "  <th>Df Model:</th>              <td>     6</td>      <th>                     </th>     <td> </td>    \n",
              "</tr>\n",
              "<tr>\n",
              "  <th>Covariance Type:</th>      <td>nonrobust</td>    <th>                     </th>     <td> </td>    \n",
              "</tr>\n",
              "</table>\n",
              "<table class=\"simpletable\">\n",
              "<tr>\n",
              "      <td></td>         <th>coef</th>     <th>std err</th>      <th>t</th>      <th>P>|t|</th>  <th>[0.025</th>    <th>0.975]</th>  \n",
              "</tr>\n",
              "<tr>\n",
              "  <th>Intercept</th> <td>  -66.4814</td> <td>    6.288</td> <td>  -10.574</td> <td> 0.000</td> <td>  -78.879</td> <td>  -54.084</td>\n",
              "</tr>\n",
              "<tr>\n",
              "  <th>MMIN</th>      <td>    0.0143</td> <td>    0.001</td> <td>   10.021</td> <td> 0.000</td> <td>    0.011</td> <td>    0.017</td>\n",
              "</tr>\n",
              "<tr>\n",
              "  <th>MMAX</th>      <td>    0.0066</td> <td>    0.001</td> <td>   13.138</td> <td> 0.000</td> <td>    0.006</td> <td>    0.008</td>\n",
              "</tr>\n",
              "<tr>\n",
              "  <th>MYCT</th>      <td>    0.0660</td> <td>    0.014</td> <td>    4.818</td> <td> 0.000</td> <td>    0.039</td> <td>    0.093</td>\n",
              "</tr>\n",
              "<tr>\n",
              "  <th>CACH</th>      <td>    0.4945</td> <td>    0.109</td> <td>    4.533</td> <td> 0.000</td> <td>    0.279</td> <td>    0.710</td>\n",
              "</tr>\n",
              "<tr>\n",
              "  <th>CHMIN</th>     <td>   -0.1723</td> <td>    0.669</td> <td>   -0.258</td> <td> 0.797</td> <td>   -1.491</td> <td>    1.146</td>\n",
              "</tr>\n",
              "<tr>\n",
              "  <th>CHMAX</th>     <td>    1.2012</td> <td>    0.172</td> <td>    6.985</td> <td> 0.000</td> <td>    0.862</td> <td>    1.540</td>\n",
              "</tr>\n",
              "</table>\n",
              "<table class=\"simpletable\">\n",
              "<tr>\n",
              "  <th>Omnibus:</th>       <td>109.550</td> <th>  Durbin-Watson:     </th> <td>   1.095</td> \n",
              "</tr>\n",
              "<tr>\n",
              "  <th>Prob(Omnibus):</th> <td> 0.000</td>  <th>  Jarque-Bera (JB):  </th> <td>1015.951</td> \n",
              "</tr>\n",
              "<tr>\n",
              "  <th>Skew:</th>          <td> 1.786</td>  <th>  Prob(JB):          </th> <td>2.45e-221</td>\n",
              "</tr>\n",
              "<tr>\n",
              "  <th>Kurtosis:</th>      <td>13.193</td>  <th>  Cond. No.          </th> <td>3.32e+04</td> \n",
              "</tr>\n",
              "</table>"
            ],
            "text/plain": [
              "<class 'statsmodels.iolib.summary.Summary'>\n",
              "\"\"\"\n",
              "                            OLS Regression Results                            \n",
              "==============================================================================\n",
              "Dep. Variable:                    ERP   R-squared:                       0.911\n",
              "Model:                            OLS   Adj. R-squared:                  0.908\n",
              "Method:                 Least Squares   F-statistic:                     344.1\n",
              "Date:                Sat, 02 Feb 2019   Prob (F-statistic):          3.92e-103\n",
              "Time:                        03:12:44   Log-Likelihood:                -1097.2\n",
              "No. Observations:                 209   AIC:                             2208.\n",
              "Df Residuals:                     202   BIC:                             2232.\n",
              "Df Model:                           6                                         \n",
              "Covariance Type:            nonrobust                                         \n",
              "==============================================================================\n",
              "                 coef    std err          t      P>|t|      [0.025      0.975]\n",
              "------------------------------------------------------------------------------\n",
              "Intercept    -66.4814      6.288    -10.574      0.000     -78.879     -54.084\n",
              "MMIN           0.0143      0.001     10.021      0.000       0.011       0.017\n",
              "MMAX           0.0066      0.001     13.138      0.000       0.006       0.008\n",
              "MYCT           0.0660      0.014      4.818      0.000       0.039       0.093\n",
              "CACH           0.4945      0.109      4.533      0.000       0.279       0.710\n",
              "CHMIN         -0.1723      0.669     -0.258      0.797      -1.491       1.146\n",
              "CHMAX          1.2012      0.172      6.985      0.000       0.862       1.540\n",
              "==============================================================================\n",
              "Omnibus:                      109.550   Durbin-Watson:                   1.095\n",
              "Prob(Omnibus):                  0.000   Jarque-Bera (JB):             1015.951\n",
              "Skew:                           1.786   Prob(JB):                    2.45e-221\n",
              "Kurtosis:                      13.193   Cond. No.                     3.32e+04\n",
              "==============================================================================\n",
              "\n",
              "Warnings:\n",
              "[1] Standard Errors assume that the covariance matrix of the errors is correctly specified.\n",
              "[2] The condition number is large, 3.32e+04. This might indicate that there are\n",
              "strong multicollinearity or other numerical problems.\n",
              "\"\"\""
            ]
          },
          "metadata": {
            "tags": []
          },
          "execution_count": 15
        }
      ]
    },
    {
      "metadata": {
        "id": "ku4Uu4ZhzcZX",
        "colab_type": "text"
      },
      "cell_type": "markdown",
      "source": [
        "# Auto Correlation\n",
        "\n",
        "\n",
        "\n",
        "\n",
        "*  0 - 1.9 Positively Auto correlated.\n",
        "*  2>>  NO Auto Correlation\n",
        "* 2.1 - 4 >>  Negatively Auto correlated"
      ]
    },
    {
      "metadata": {
        "id": "8QZGN6TLzY4e",
        "colab_type": "code",
        "colab": {}
      },
      "cell_type": "code",
      "source": [
        ""
      ],
      "execution_count": 0,
      "outputs": []
    },
    {
      "metadata": {
        "id": "RRYUVQHjnR-S",
        "colab_type": "code",
        "colab": {}
      },
      "cell_type": "code",
      "source": [
        "residual=pred_y-y"
      ],
      "execution_count": 0,
      "outputs": []
    },
    {
      "metadata": {
        "id": "Y4PvkrNAxZa8",
        "colab_type": "text"
      },
      "cell_type": "markdown",
      "source": [
        "# Heteroscedasticity"
      ]
    },
    {
      "metadata": {
        "id": "m6wm5tLPisP3",
        "colab_type": "code",
        "colab": {}
      },
      "cell_type": "code",
      "source": [
        "import seaborn as sns"
      ],
      "execution_count": 0,
      "outputs": []
    },
    {
      "metadata": {
        "id": "xYrSg8c_m-_s",
        "colab_type": "code",
        "outputId": "549f3a86-b291-45dd-b8ba-4fa7ac4e0142",
        "colab": {
          "base_uri": "https://localhost:8080/",
          "height": 364
        }
      },
      "cell_type": "code",
      "source": [
        "plt.scatter(residual,y)# Hetero"
      ],
      "execution_count": 18,
      "outputs": [
        {
          "output_type": "execute_result",
          "data": {
            "text/plain": [
              "<matplotlib.collections.PathCollection at 0x7f11e81f8a90>"
            ]
          },
          "metadata": {
            "tags": []
          },
          "execution_count": 18
        },
        {
          "output_type": "display_data",
          "data": {
            "image/png": "[encoded data removed]",
            "text/plain": [
              "<Figure size 576x396 with 1 Axes>"
            ]
          },
          "metadata": {
            "tags": []
          }
        }
      ]
    },
    {
      "metadata": {
        "id": "uUXNcXegyJoT",
        "colab_type": "code",
        "outputId": "5ad9701c-4214-40ff-e1ac-12284d0ab36b",
        "colab": {
          "base_uri": "https://localhost:8080/",
          "height": 88
        }
      },
      "cell_type": "code",
      "source": [
        "import statsmodels.stats.api as sms\n",
        "from statsmodels.compat import lzip\n",
        "name = ['F statistic', 'p-value']\n",
        "test = sms.het_goldfeldquandt(model1.resid, model1.model.exog)\n",
        "lzip(name, test)"
      ],
      "execution_count": 19,
      "outputs": [
        {
          "output_type": "stream",
          "text": [
            "/usr/local/lib/python3.6/dist-packages/statsmodels/compat/pandas.py:56: FutureWarning: The pandas.core.datetools module is deprecated and will be removed in a future version. Please use the pandas.tseries module instead.\n",
            "  from pandas.core import datetools\n"
          ],
          "name": "stderr"
        },
        {
          "output_type": "execute_result",
          "data": {
            "text/plain": [
              "[('F statistic', 0.6716348000556215), ('p-value', 0.9745729524352381)]"
            ]
          },
          "metadata": {
            "tags": []
          },
          "execution_count": 19
        }
      ]
    },
    {
      "metadata": {
        "id": "C3OoLoH1quGv",
        "colab_type": "text"
      },
      "cell_type": "markdown",
      "source": [
        "# Normality Check"
      ]
    },
    {
      "metadata": {
        "id": "08L7CV9WnY72",
        "colab_type": "code",
        "colab": {}
      },
      "cell_type": "code",
      "source": [
        "import pylab "
      ],
      "execution_count": 0,
      "outputs": []
    },
    {
      "metadata": {
        "id": "BYo3_7LcosdG",
        "colab_type": "code",
        "outputId": "58937531-ab2c-46f3-82de-89dcfe7f8bf2",
        "colab": {
          "base_uri": "https://localhost:8080/",
          "height": 180
        }
      },
      "cell_type": "code",
      "source": [
        "stats.probplot(residual,dist='norm',plot=pylab) # Normality\n",
        "pylab.show()"
      ],
      "execution_count": 21,
      "outputs": [
        {
          "output_type": "error",
          "ename": "NameError",
          "evalue": "ignored",
          "traceback": [
            "\u001b[0;31m---------------------------------------------------------------------------\u001b[0m",
            "\u001b[0;31mNameError\u001b[0m                                 Traceback (most recent call last)",
            "\u001b[0;32m<ipython-input-21-49eb866564ea>\u001b[0m in \u001b[0;36m<module>\u001b[0;34m()\u001b[0m\n\u001b[0;32m----> 1\u001b[0;31m \u001b[0mstats\u001b[0m\u001b[0;34m.\u001b[0m\u001b[0mprobplot\u001b[0m\u001b[0;34m(\u001b[0m\u001b[0mresidual\u001b[0m\u001b[0;34m,\u001b[0m\u001b[0mdist\u001b[0m\u001b[0;34m=\u001b[0m\u001b[0;34m'norm'\u001b[0m\u001b[0;34m,\u001b[0m\u001b[0mplot\u001b[0m\u001b[0;34m=\u001b[0m\u001b[0mpylab\u001b[0m\u001b[0;34m)\u001b[0m \u001b[0;31m# Normality\u001b[0m\u001b[0;34m\u001b[0m\u001b[0;34m\u001b[0m\u001b[0m\n\u001b[0m\u001b[1;32m      2\u001b[0m \u001b[0mpylab\u001b[0m\u001b[0;34m.\u001b[0m\u001b[0mshow\u001b[0m\u001b[0;34m(\u001b[0m\u001b[0;34m)\u001b[0m\u001b[0;34m\u001b[0m\u001b[0;34m\u001b[0m\u001b[0m\n",
            "\u001b[0;31mNameError\u001b[0m: name 'stats' is not defined"
          ]
        }
      ]
    },
    {
      "metadata": {
        "id": "X4VLkXKGr8_c",
        "colab_type": "text"
      },
      "cell_type": "markdown",
      "source": [
        "By graph , data is normally distributed"
      ]
    },
    {
      "metadata": {
        "id": "hnJEcEFfoxeF",
        "colab_type": "code",
        "colab": {}
      },
      "cell_type": "code",
      "source": [
        "stats.shapiro(residual)"
      ],
      "execution_count": 0,
      "outputs": []
    },
    {
      "metadata": {
        "id": "g0r5LKQqq075",
        "colab_type": "text"
      },
      "cell_type": "markdown",
      "source": [
        "P value is greter than 5% so normality fails"
      ]
    },
    {
      "metadata": {
        "id": "ym__PbBUpY3C",
        "colab_type": "code",
        "outputId": "ff7d4cd8-8575-48ea-f639-bf27a02da513",
        "colab": {
          "base_uri": "https://localhost:8080/",
          "height": 429
        }
      },
      "cell_type": "code",
      "source": [
        "sns.distplot(residual)"
      ],
      "execution_count": 22,
      "outputs": [
        {
          "output_type": "stream",
          "text": [
            "/usr/local/lib/python3.6/dist-packages/matplotlib/axes/_axes.py:6521: MatplotlibDeprecationWarning: \n",
            "The 'normed' kwarg was deprecated in Matplotlib 2.1 and will be removed in 3.1. Use 'density' instead.\n",
            "  alternative=\"'density'\", removal=\"3.1\")\n"
          ],
          "name": "stderr"
        },
        {
          "output_type": "execute_result",
          "data": {
            "text/plain": [
              "<matplotlib.axes._subplots.AxesSubplot at 0x7f11e3f945c0>"
            ]
          },
          "metadata": {
            "tags": []
          },
          "execution_count": 22
        },
        {
          "output_type": "display_data",
          "data": {
            "image/png": "[encoded data removed]",
            "text/plain": [
              "<Figure size 576x396 with 1 Axes>"
            ]
          },
          "metadata": {
            "tags": []
          }
        }
      ]
    },
    {
      "metadata": {
        "id": "SiQ-AhXtvfWV",
        "colab_type": "text"
      },
      "cell_type": "markdown",
      "source": [
        "Linearity check , heteroscedasticity"
      ]
    },
    {
      "metadata": {
        "id": "ezFcoz2zs8mn",
        "colab_type": "text"
      },
      "cell_type": "markdown",
      "source": [
        "#VIF : Multicollinearity"
      ]
    },
    {
      "metadata": {
        "id": "e7awVV2Csdwe",
        "colab_type": "code",
        "colab": {}
      },
      "cell_type": "code",
      "source": [
        "from statsmodels.stats.outliers_influence import variance_inflation_factor"
      ],
      "execution_count": 0,
      "outputs": []
    },
    {
      "metadata": {
        "id": "7Xzmi3xwtJXH",
        "colab_type": "code",
        "colab": {}
      },
      "cell_type": "code",
      "source": [
        "vif=pd.DataFrame()\n",
        "vif['VIF Factor'] = [variance_inflation_factor(x.values,i) for i in range(x.shape[1])]\n",
        "vif['feature']=x.columns"
      ],
      "execution_count": 0,
      "outputs": []
    },
    {
      "metadata": {
        "id": "9XC6rKO4tmi0",
        "colab_type": "code",
        "outputId": "d22881e4-9408-44c3-9c0b-cd043ba16140",
        "colab": {
          "base_uri": "https://localhost:8080/",
          "height": 235
        }
      },
      "cell_type": "code",
      "source": [
        "vif"
      ],
      "execution_count": 25,
      "outputs": [
        {
          "output_type": "execute_result",
          "data": {
            "text/html": [
              "<div>\n",
              "<style scoped>\n",
              "    .dataframe tbody tr th:only-of-type {\n",
              "        vertical-align: middle;\n",
              "    }\n",
              "\n",
              "    .dataframe tbody tr th {\n",
              "        vertical-align: top;\n",
              "    }\n",
              "\n",
              "    .dataframe thead th {\n",
              "        text-align: right;\n",
              "    }\n",
              "</style>\n",
              "<table border=\"1\" class=\"dataframe\">\n",
              "  <thead>\n",
              "    <tr style=\"text-align: right;\">\n",
              "      <th></th>\n",
              "      <th>VIF Factor</th>\n",
              "      <th>feature</th>\n",
              "    </tr>\n",
              "  </thead>\n",
              "  <tbody>\n",
              "    <tr>\n",
              "      <th>0</th>\n",
              "      <td>1.067222</td>\n",
              "      <td>MYCT</td>\n",
              "    </tr>\n",
              "    <tr>\n",
              "      <th>1</th>\n",
              "      <td>4.493385</td>\n",
              "      <td>MMIN</td>\n",
              "    </tr>\n",
              "    <tr>\n",
              "      <th>2</th>\n",
              "      <td>5.890977</td>\n",
              "      <td>MMAX</td>\n",
              "    </tr>\n",
              "    <tr>\n",
              "      <th>3</th>\n",
              "      <td>2.563899</td>\n",
              "      <td>CACH</td>\n",
              "    </tr>\n",
              "    <tr>\n",
              "      <th>4</th>\n",
              "      <td>2.890250</td>\n",
              "      <td>CHMIN</td>\n",
              "    </tr>\n",
              "    <tr>\n",
              "      <th>5</th>\n",
              "      <td>2.808009</td>\n",
              "      <td>CHMAX</td>\n",
              "    </tr>\n",
              "  </tbody>\n",
              "</table>\n",
              "</div>"
            ],
            "text/plain": [
              "   VIF Factor feature\n",
              "0    1.067222    MYCT\n",
              "1    4.493385    MMIN\n",
              "2    5.890977    MMAX\n",
              "3    2.563899    CACH\n",
              "4    2.890250   CHMIN\n",
              "5    2.808009   CHMAX"
            ]
          },
          "metadata": {
            "tags": []
          },
          "execution_count": 25
        }
      ]
    },
    {
      "metadata": {
        "id": "BEnHpQ685m3X",
        "colab_type": "text"
      },
      "cell_type": "markdown",
      "source": [
        "#Linearity Check"
      ]
    },
    {
      "metadata": {
        "id": "hCsLB5bO6qDa",
        "colab_type": "code",
        "colab": {}
      },
      "cell_type": "code",
      "source": [
        ""
      ],
      "execution_count": 0,
      "outputs": []
    },
    {
      "metadata": {
        "id": "EvcXJyWK3wD0",
        "colab_type": "code",
        "outputId": "bff075be-8d2c-4f9f-a452-dc51468703d8",
        "colab": {
          "base_uri": "https://localhost:8080/",
          "height": 1997
        }
      },
      "cell_type": "code",
      "source": [
        "for a in x.columns:\n",
        "  plt.scatter(x[a],residual)\n",
        "  plt.show()"
      ],
      "execution_count": 26,
      "outputs": [
        {
          "output_type": "display_data",
          "data": {
            "image/png": "[encoded data removed]",
            "text/plain": [
              "<Figure size 576x396 with 1 Axes>"
            ]
          },
          "metadata": {
            "tags": []
          }
        },
        {
          "output_type": "display_data",
          "data": {
            "image/png": "[encoded data removed]",
            "text/plain": [
              "<Figure size 576x396 with 1 Axes>"
            ]
          },
          "metadata": {
            "tags": []
          }
        },
        {
          "output_type": "display_data",
          "data": {
            "image/png": "[encoded data removed]",
            "text/plain": [
              "<Figure size 576x396 with 1 Axes>"
            ]
          },
          "metadata": {
            "tags": []
          }
        },
        {
          "output_type": "display_data",
          "data": {
            "image/png": "[encoded data removed]",
            "text/plain": [
              "<Figure size 576x396 with 1 Axes>"
            ]
          },
          "metadata": {
            "tags": []
          }
        },
        {
          "output_type": "display_data",
          "data": {
            "image/png": "[encoded data removed]",
            "text/plain": [
              "<Figure size 576x396 with 1 Axes>"
            ]
          },
          "metadata": {
            "tags": []
          }
        },
        {
          "output_type": "display_data",
          "data": {
            "image/png": "[encoded data removed]",
            "text/plain": [
              "<Figure size 576x396 with 1 Axes>"
            ]
          },
          "metadata": {
            "tags": []
          }
        }
      ]
    },
    {
      "metadata": {
        "id": "DUPG-esrDGXa",
        "colab_type": "text"
      },
      "cell_type": "markdown",
      "source": [
        "#Treating outlire"
      ]
    },
    {
      "metadata": {
        "id": "3xJzciNp59b7",
        "colab_type": "code",
        "outputId": "c19e0a95-cc43-48ab-8008-f3a38230dc89",
        "colab": {
          "base_uri": "https://localhost:8080/",
          "height": 136
        }
      },
      "cell_type": "code",
      "source": [
        "from scipy import stats\n",
        "import numpy as np\n",
        "z = np.abs(stats.zscore(x))\n",
        "print(z)"
      ],
      "execution_count": 27,
      "outputs": [
        {
          "output_type": "stream",
          "text": [
            "[[0.30358614 0.67502598 0.49546221 5.69420785 1.66198873 4.23103334]\n",
            " [0.67332952 1.32629082 1.72704937 0.16762947 0.48550899 0.52947875]\n",
            " [0.67332952 1.32629082 1.72704937 0.16762947 0.48550899 0.52947875]\n",
            " ...\n",
            " [0.30358614 0.2243162  0.32449978 0.62188173 0.39685082 0.16456273]\n",
            " [1.06369405 0.60886675 0.32449978 0.16762947 0.69097076 0.70437278]\n",
            " [1.06369405 0.48275071 0.66642464 0.62188173 0.69097076 0.70437278]]\n"
          ],
          "name": "stdout"
        }
      ]
    },
    {
      "metadata": {
        "id": "2RMk0Zf2Dhs-",
        "colab_type": "code",
        "outputId": "2bb6a9b0-b051-42eb-ca73-f5913c3568d2",
        "colab": {
          "base_uri": "https://localhost:8080/",
          "height": 85
        }
      },
      "cell_type": "code",
      "source": [
        "threshold = 3\n",
        "print(np.where(z > threshold))"
      ],
      "execution_count": 28,
      "outputs": [
        {
          "output_type": "stream",
          "text": [
            "(array([  0,   0,   6,   7,   8,   8,   9,   9,   9,  82,  95,  96, 102,\n",
            "       103, 122, 123, 137, 153, 156, 156, 168, 195, 196, 196, 197, 197,\n",
            "       198, 198, 199, 199]), array([3, 5, 1, 1, 1, 2, 1, 2, 4, 5, 1, 1, 0, 0, 0, 0, 5, 1, 1, 3, 3, 4,\n",
            "       4, 5, 4, 5, 2, 5, 2, 5]))\n"
          ],
          "name": "stdout"
        }
      ]
    },
    {
      "metadata": {
        "id": "RrxWvy7dDmJV",
        "colab_type": "code",
        "outputId": "f7724664-f8e2-49e5-b429-e898586be742",
        "colab": {
          "base_uri": "https://localhost:8080/",
          "height": 34
        }
      },
      "cell_type": "code",
      "source": [
        "data_1 = data[(z < 3).all(axis=1)]\n",
        "data_1.shape"
      ],
      "execution_count": 29,
      "outputs": [
        {
          "output_type": "execute_result",
          "data": {
            "text/plain": [
              "(188, 9)"
            ]
          },
          "metadata": {
            "tags": []
          },
          "execution_count": 29
        }
      ]
    },
    {
      "metadata": {
        "id": "0hlkZItkDo6z",
        "colab_type": "code",
        "outputId": "4f1003f8-9659-4816-e52c-833a574a1f1a",
        "colab": {
          "base_uri": "https://localhost:8080/",
          "height": 1969
        }
      },
      "cell_type": "code",
      "source": [
        "data_1"
      ],
      "execution_count": 30,
      "outputs": [
        {
          "output_type": "execute_result",
          "data": {
            "text/html": [
              "<div>\n",
              "<style scoped>\n",
              "    .dataframe tbody tr th:only-of-type {\n",
              "        vertical-align: middle;\n",
              "    }\n",
              "\n",
              "    .dataframe tbody tr th {\n",
              "        vertical-align: top;\n",
              "    }\n",
              "\n",
              "    .dataframe thead th {\n",
              "        text-align: right;\n",
              "    }\n",
              "</style>\n",
              "<table border=\"1\" class=\"dataframe\">\n",
              "  <thead>\n",
              "    <tr style=\"text-align: right;\">\n",
              "      <th></th>\n",
              "      <th>model</th>\n",
              "      <th>MYCT</th>\n",
              "      <th>MMIN</th>\n",
              "      <th>MMAX</th>\n",
              "      <th>CACH</th>\n",
              "      <th>CHMIN</th>\n",
              "      <th>CHMAX</th>\n",
              "      <th>PRP</th>\n",
              "      <th>ERP</th>\n",
              "    </tr>\n",
              "  </thead>\n",
              "  <tbody>\n",
              "    <tr>\n",
              "      <th>amdahl</th>\n",
              "      <td>470v/7</td>\n",
              "      <td>29</td>\n",
              "      <td>8000</td>\n",
              "      <td>32000</td>\n",
              "      <td>32</td>\n",
              "      <td>8</td>\n",
              "      <td>32</td>\n",
              "      <td>269</td>\n",
              "      <td>253</td>\n",
              "    </tr>\n",
              "    <tr>\n",
              "      <th>amdahl</th>\n",
              "      <td>470v/7a</td>\n",
              "      <td>29</td>\n",
              "      <td>8000</td>\n",
              "      <td>32000</td>\n",
              "      <td>32</td>\n",
              "      <td>8</td>\n",
              "      <td>32</td>\n",
              "      <td>220</td>\n",
              "      <td>253</td>\n",
              "    </tr>\n",
              "    <tr>\n",
              "      <th>amdahl</th>\n",
              "      <td>470v/7b</td>\n",
              "      <td>29</td>\n",
              "      <td>8000</td>\n",
              "      <td>32000</td>\n",
              "      <td>32</td>\n",
              "      <td>8</td>\n",
              "      <td>32</td>\n",
              "      <td>172</td>\n",
              "      <td>253</td>\n",
              "    </tr>\n",
              "    <tr>\n",
              "      <th>amdahl</th>\n",
              "      <td>470v/7c</td>\n",
              "      <td>29</td>\n",
              "      <td>8000</td>\n",
              "      <td>16000</td>\n",
              "      <td>32</td>\n",
              "      <td>8</td>\n",
              "      <td>16</td>\n",
              "      <td>132</td>\n",
              "      <td>132</td>\n",
              "    </tr>\n",
              "    <tr>\n",
              "      <th>amdahl</th>\n",
              "      <td>470v/b</td>\n",
              "      <td>26</td>\n",
              "      <td>8000</td>\n",
              "      <td>32000</td>\n",
              "      <td>64</td>\n",
              "      <td>8</td>\n",
              "      <td>32</td>\n",
              "      <td>318</td>\n",
              "      <td>290</td>\n",
              "    </tr>\n",
              "    <tr>\n",
              "      <th>apollo</th>\n",
              "      <td>dn320</td>\n",
              "      <td>400</td>\n",
              "      <td>1000</td>\n",
              "      <td>3000</td>\n",
              "      <td>0</td>\n",
              "      <td>1</td>\n",
              "      <td>2</td>\n",
              "      <td>38</td>\n",
              "      <td>23</td>\n",
              "    </tr>\n",
              "    <tr>\n",
              "      <th>apollo</th>\n",
              "      <td>dn420</td>\n",
              "      <td>400</td>\n",
              "      <td>512</td>\n",
              "      <td>3500</td>\n",
              "      <td>4</td>\n",
              "      <td>1</td>\n",
              "      <td>6</td>\n",
              "      <td>40</td>\n",
              "      <td>24</td>\n",
              "    </tr>\n",
              "    <tr>\n",
              "      <th>basf</th>\n",
              "      <td>7/65</td>\n",
              "      <td>60</td>\n",
              "      <td>2000</td>\n",
              "      <td>8000</td>\n",
              "      <td>65</td>\n",
              "      <td>1</td>\n",
              "      <td>8</td>\n",
              "      <td>92</td>\n",
              "      <td>70</td>\n",
              "    </tr>\n",
              "    <tr>\n",
              "      <th>basf</th>\n",
              "      <td>7/68</td>\n",
              "      <td>50</td>\n",
              "      <td>4000</td>\n",
              "      <td>16000</td>\n",
              "      <td>65</td>\n",
              "      <td>1</td>\n",
              "      <td>8</td>\n",
              "      <td>138</td>\n",
              "      <td>117</td>\n",
              "    </tr>\n",
              "    <tr>\n",
              "      <th>bti</th>\n",
              "      <td>5000</td>\n",
              "      <td>350</td>\n",
              "      <td>64</td>\n",
              "      <td>64</td>\n",
              "      <td>0</td>\n",
              "      <td>1</td>\n",
              "      <td>4</td>\n",
              "      <td>10</td>\n",
              "      <td>15</td>\n",
              "    </tr>\n",
              "    <tr>\n",
              "      <th>bti</th>\n",
              "      <td>8000</td>\n",
              "      <td>200</td>\n",
              "      <td>512</td>\n",
              "      <td>16000</td>\n",
              "      <td>0</td>\n",
              "      <td>4</td>\n",
              "      <td>32</td>\n",
              "      <td>35</td>\n",
              "      <td>64</td>\n",
              "    </tr>\n",
              "    <tr>\n",
              "      <th>burroughs</th>\n",
              "      <td>b1955</td>\n",
              "      <td>167</td>\n",
              "      <td>524</td>\n",
              "      <td>2000</td>\n",
              "      <td>8</td>\n",
              "      <td>4</td>\n",
              "      <td>15</td>\n",
              "      <td>19</td>\n",
              "      <td>23</td>\n",
              "    </tr>\n",
              "    <tr>\n",
              "      <th>burroughs</th>\n",
              "      <td>b2900</td>\n",
              "      <td>143</td>\n",
              "      <td>512</td>\n",
              "      <td>5000</td>\n",
              "      <td>0</td>\n",
              "      <td>7</td>\n",
              "      <td>32</td>\n",
              "      <td>28</td>\n",
              "      <td>29</td>\n",
              "    </tr>\n",
              "    <tr>\n",
              "      <th>burroughs</th>\n",
              "      <td>b2925</td>\n",
              "      <td>143</td>\n",
              "      <td>1000</td>\n",
              "      <td>2000</td>\n",
              "      <td>0</td>\n",
              "      <td>5</td>\n",
              "      <td>16</td>\n",
              "      <td>31</td>\n",
              "      <td>22</td>\n",
              "    </tr>\n",
              "    <tr>\n",
              "      <th>burroughs</th>\n",
              "      <td>b4955</td>\n",
              "      <td>110</td>\n",
              "      <td>5000</td>\n",
              "      <td>5000</td>\n",
              "      <td>142</td>\n",
              "      <td>8</td>\n",
              "      <td>64</td>\n",
              "      <td>120</td>\n",
              "      <td>124</td>\n",
              "    </tr>\n",
              "    <tr>\n",
              "      <th>burroughs</th>\n",
              "      <td>b5900</td>\n",
              "      <td>143</td>\n",
              "      <td>1500</td>\n",
              "      <td>6300</td>\n",
              "      <td>0</td>\n",
              "      <td>5</td>\n",
              "      <td>32</td>\n",
              "      <td>30</td>\n",
              "      <td>35</td>\n",
              "    </tr>\n",
              "    <tr>\n",
              "      <th>burroughs</th>\n",
              "      <td>b5920</td>\n",
              "      <td>143</td>\n",
              "      <td>3100</td>\n",
              "      <td>6200</td>\n",
              "      <td>0</td>\n",
              "      <td>5</td>\n",
              "      <td>20</td>\n",
              "      <td>33</td>\n",
              "      <td>39</td>\n",
              "    </tr>\n",
              "    <tr>\n",
              "      <th>burroughs</th>\n",
              "      <td>b6900</td>\n",
              "      <td>143</td>\n",
              "      <td>2300</td>\n",
              "      <td>6200</td>\n",
              "      <td>0</td>\n",
              "      <td>6</td>\n",
              "      <td>64</td>\n",
              "      <td>61</td>\n",
              "      <td>40</td>\n",
              "    </tr>\n",
              "    <tr>\n",
              "      <th>burroughs</th>\n",
              "      <td>b6925</td>\n",
              "      <td>110</td>\n",
              "      <td>3100</td>\n",
              "      <td>6200</td>\n",
              "      <td>0</td>\n",
              "      <td>6</td>\n",
              "      <td>64</td>\n",
              "      <td>76</td>\n",
              "      <td>45</td>\n",
              "    </tr>\n",
              "    <tr>\n",
              "      <th>c.r.d</th>\n",
              "      <td>68/10-80</td>\n",
              "      <td>320</td>\n",
              "      <td>128</td>\n",
              "      <td>6000</td>\n",
              "      <td>0</td>\n",
              "      <td>1</td>\n",
              "      <td>12</td>\n",
              "      <td>23</td>\n",
              "      <td>28</td>\n",
              "    </tr>\n",
              "    <tr>\n",
              "      <th>c.r.d</th>\n",
              "      <td>universe:2203t</td>\n",
              "      <td>320</td>\n",
              "      <td>512</td>\n",
              "      <td>2000</td>\n",
              "      <td>4</td>\n",
              "      <td>1</td>\n",
              "      <td>3</td>\n",
              "      <td>69</td>\n",
              "      <td>21</td>\n",
              "    </tr>\n",
              "    <tr>\n",
              "      <th>c.r.d</th>\n",
              "      <td>universe:68</td>\n",
              "      <td>320</td>\n",
              "      <td>256</td>\n",
              "      <td>6000</td>\n",
              "      <td>0</td>\n",
              "      <td>1</td>\n",
              "      <td>6</td>\n",
              "      <td>33</td>\n",
              "      <td>28</td>\n",
              "    </tr>\n",
              "    <tr>\n",
              "      <th>c.r.d</th>\n",
              "      <td>universe:68/05</td>\n",
              "      <td>320</td>\n",
              "      <td>256</td>\n",
              "      <td>3000</td>\n",
              "      <td>4</td>\n",
              "      <td>1</td>\n",
              "      <td>3</td>\n",
              "      <td>27</td>\n",
              "      <td>22</td>\n",
              "    </tr>\n",
              "    <tr>\n",
              "      <th>c.r.d</th>\n",
              "      <td>universe:68/137</td>\n",
              "      <td>320</td>\n",
              "      <td>512</td>\n",
              "      <td>5000</td>\n",
              "      <td>4</td>\n",
              "      <td>1</td>\n",
              "      <td>5</td>\n",
              "      <td>77</td>\n",
              "      <td>28</td>\n",
              "    </tr>\n",
              "    <tr>\n",
              "      <th>c.r.d</th>\n",
              "      <td>universe:68/37</td>\n",
              "      <td>320</td>\n",
              "      <td>256</td>\n",
              "      <td>5000</td>\n",
              "      <td>4</td>\n",
              "      <td>1</td>\n",
              "      <td>6</td>\n",
              "      <td>27</td>\n",
              "      <td>27</td>\n",
              "    </tr>\n",
              "    <tr>\n",
              "      <th>cdc</th>\n",
              "      <td>cyber:170/750</td>\n",
              "      <td>25</td>\n",
              "      <td>1310</td>\n",
              "      <td>2620</td>\n",
              "      <td>131</td>\n",
              "      <td>12</td>\n",
              "      <td>24</td>\n",
              "      <td>274</td>\n",
              "      <td>102</td>\n",
              "    </tr>\n",
              "    <tr>\n",
              "      <th>cdc</th>\n",
              "      <td>cyber:170/760</td>\n",
              "      <td>25</td>\n",
              "      <td>1310</td>\n",
              "      <td>2620</td>\n",
              "      <td>131</td>\n",
              "      <td>12</td>\n",
              "      <td>24</td>\n",
              "      <td>368</td>\n",
              "      <td>102</td>\n",
              "    </tr>\n",
              "    <tr>\n",
              "      <th>cdc</th>\n",
              "      <td>cyber:170/815</td>\n",
              "      <td>50</td>\n",
              "      <td>2620</td>\n",
              "      <td>10480</td>\n",
              "      <td>30</td>\n",
              "      <td>12</td>\n",
              "      <td>24</td>\n",
              "      <td>32</td>\n",
              "      <td>74</td>\n",
              "    </tr>\n",
              "    <tr>\n",
              "      <th>cdc</th>\n",
              "      <td>cyber:170/825</td>\n",
              "      <td>50</td>\n",
              "      <td>2620</td>\n",
              "      <td>10480</td>\n",
              "      <td>30</td>\n",
              "      <td>12</td>\n",
              "      <td>24</td>\n",
              "      <td>63</td>\n",
              "      <td>74</td>\n",
              "    </tr>\n",
              "    <tr>\n",
              "      <th>cdc</th>\n",
              "      <td>cyber:170/835</td>\n",
              "      <td>56</td>\n",
              "      <td>5240</td>\n",
              "      <td>20970</td>\n",
              "      <td>30</td>\n",
              "      <td>12</td>\n",
              "      <td>24</td>\n",
              "      <td>106</td>\n",
              "      <td>138</td>\n",
              "    </tr>\n",
              "    <tr>\n",
              "      <th>...</th>\n",
              "      <td>...</td>\n",
              "      <td>...</td>\n",
              "      <td>...</td>\n",
              "      <td>...</td>\n",
              "      <td>...</td>\n",
              "      <td>...</td>\n",
              "      <td>...</td>\n",
              "      <td>...</td>\n",
              "      <td>...</td>\n",
              "    </tr>\n",
              "    <tr>\n",
              "      <th>perkin-elmer</th>\n",
              "      <td>3210</td>\n",
              "      <td>250</td>\n",
              "      <td>512</td>\n",
              "      <td>4000</td>\n",
              "      <td>0</td>\n",
              "      <td>4</td>\n",
              "      <td>7</td>\n",
              "      <td>50</td>\n",
              "      <td>24</td>\n",
              "    </tr>\n",
              "    <tr>\n",
              "      <th>perkin-elmer</th>\n",
              "      <td>3230</td>\n",
              "      <td>250</td>\n",
              "      <td>1000</td>\n",
              "      <td>16000</td>\n",
              "      <td>1</td>\n",
              "      <td>1</td>\n",
              "      <td>8</td>\n",
              "      <td>50</td>\n",
              "      <td>64</td>\n",
              "    </tr>\n",
              "    <tr>\n",
              "      <th>prime</th>\n",
              "      <td>50-2250</td>\n",
              "      <td>160</td>\n",
              "      <td>512</td>\n",
              "      <td>4000</td>\n",
              "      <td>2</td>\n",
              "      <td>1</td>\n",
              "      <td>5</td>\n",
              "      <td>30</td>\n",
              "      <td>25</td>\n",
              "    </tr>\n",
              "    <tr>\n",
              "      <th>prime</th>\n",
              "      <td>50-250-ii</td>\n",
              "      <td>160</td>\n",
              "      <td>512</td>\n",
              "      <td>2000</td>\n",
              "      <td>2</td>\n",
              "      <td>3</td>\n",
              "      <td>8</td>\n",
              "      <td>32</td>\n",
              "      <td>20</td>\n",
              "    </tr>\n",
              "    <tr>\n",
              "      <th>prime</th>\n",
              "      <td>50-550-ii</td>\n",
              "      <td>160</td>\n",
              "      <td>1000</td>\n",
              "      <td>4000</td>\n",
              "      <td>8</td>\n",
              "      <td>1</td>\n",
              "      <td>14</td>\n",
              "      <td>38</td>\n",
              "      <td>29</td>\n",
              "    </tr>\n",
              "    <tr>\n",
              "      <th>prime</th>\n",
              "      <td>50-750-ii</td>\n",
              "      <td>160</td>\n",
              "      <td>1000</td>\n",
              "      <td>8000</td>\n",
              "      <td>16</td>\n",
              "      <td>1</td>\n",
              "      <td>14</td>\n",
              "      <td>60</td>\n",
              "      <td>43</td>\n",
              "    </tr>\n",
              "    <tr>\n",
              "      <th>prime</th>\n",
              "      <td>50-850-ii</td>\n",
              "      <td>160</td>\n",
              "      <td>2000</td>\n",
              "      <td>8000</td>\n",
              "      <td>32</td>\n",
              "      <td>1</td>\n",
              "      <td>13</td>\n",
              "      <td>109</td>\n",
              "      <td>53</td>\n",
              "    </tr>\n",
              "    <tr>\n",
              "      <th>siemens</th>\n",
              "      <td>7.521</td>\n",
              "      <td>240</td>\n",
              "      <td>512</td>\n",
              "      <td>1000</td>\n",
              "      <td>8</td>\n",
              "      <td>1</td>\n",
              "      <td>3</td>\n",
              "      <td>6</td>\n",
              "      <td>19</td>\n",
              "    </tr>\n",
              "    <tr>\n",
              "      <th>siemens</th>\n",
              "      <td>7.531</td>\n",
              "      <td>240</td>\n",
              "      <td>512</td>\n",
              "      <td>2000</td>\n",
              "      <td>8</td>\n",
              "      <td>1</td>\n",
              "      <td>5</td>\n",
              "      <td>11</td>\n",
              "      <td>22</td>\n",
              "    </tr>\n",
              "    <tr>\n",
              "      <th>siemens</th>\n",
              "      <td>7.536</td>\n",
              "      <td>105</td>\n",
              "      <td>2000</td>\n",
              "      <td>4000</td>\n",
              "      <td>8</td>\n",
              "      <td>3</td>\n",
              "      <td>8</td>\n",
              "      <td>22</td>\n",
              "      <td>31</td>\n",
              "    </tr>\n",
              "    <tr>\n",
              "      <th>siemens</th>\n",
              "      <td>7.541</td>\n",
              "      <td>105</td>\n",
              "      <td>2000</td>\n",
              "      <td>6000</td>\n",
              "      <td>16</td>\n",
              "      <td>6</td>\n",
              "      <td>16</td>\n",
              "      <td>33</td>\n",
              "      <td>41</td>\n",
              "    </tr>\n",
              "    <tr>\n",
              "      <th>siemens</th>\n",
              "      <td>7.551</td>\n",
              "      <td>105</td>\n",
              "      <td>2000</td>\n",
              "      <td>8000</td>\n",
              "      <td>16</td>\n",
              "      <td>4</td>\n",
              "      <td>14</td>\n",
              "      <td>58</td>\n",
              "      <td>47</td>\n",
              "    </tr>\n",
              "    <tr>\n",
              "      <th>siemens</th>\n",
              "      <td>7.561</td>\n",
              "      <td>52</td>\n",
              "      <td>4000</td>\n",
              "      <td>16000</td>\n",
              "      <td>32</td>\n",
              "      <td>4</td>\n",
              "      <td>12</td>\n",
              "      <td>130</td>\n",
              "      <td>99</td>\n",
              "    </tr>\n",
              "    <tr>\n",
              "      <th>siemens</th>\n",
              "      <td>7.865-2</td>\n",
              "      <td>70</td>\n",
              "      <td>4000</td>\n",
              "      <td>12000</td>\n",
              "      <td>8</td>\n",
              "      <td>6</td>\n",
              "      <td>8</td>\n",
              "      <td>75</td>\n",
              "      <td>67</td>\n",
              "    </tr>\n",
              "    <tr>\n",
              "      <th>siemens</th>\n",
              "      <td>7.870-2</td>\n",
              "      <td>59</td>\n",
              "      <td>4000</td>\n",
              "      <td>12000</td>\n",
              "      <td>32</td>\n",
              "      <td>6</td>\n",
              "      <td>12</td>\n",
              "      <td>113</td>\n",
              "      <td>81</td>\n",
              "    </tr>\n",
              "    <tr>\n",
              "      <th>siemens</th>\n",
              "      <td>7.872-2</td>\n",
              "      <td>59</td>\n",
              "      <td>8000</td>\n",
              "      <td>16000</td>\n",
              "      <td>64</td>\n",
              "      <td>12</td>\n",
              "      <td>24</td>\n",
              "      <td>188</td>\n",
              "      <td>149</td>\n",
              "    </tr>\n",
              "    <tr>\n",
              "      <th>siemens</th>\n",
              "      <td>7.875-2</td>\n",
              "      <td>26</td>\n",
              "      <td>8000</td>\n",
              "      <td>24000</td>\n",
              "      <td>32</td>\n",
              "      <td>8</td>\n",
              "      <td>16</td>\n",
              "      <td>173</td>\n",
              "      <td>183</td>\n",
              "    </tr>\n",
              "    <tr>\n",
              "      <th>siemens</th>\n",
              "      <td>7.880-2</td>\n",
              "      <td>26</td>\n",
              "      <td>8000</td>\n",
              "      <td>32000</td>\n",
              "      <td>64</td>\n",
              "      <td>12</td>\n",
              "      <td>16</td>\n",
              "      <td>248</td>\n",
              "      <td>275</td>\n",
              "    </tr>\n",
              "    <tr>\n",
              "      <th>siemens</th>\n",
              "      <td>7.881-2</td>\n",
              "      <td>26</td>\n",
              "      <td>8000</td>\n",
              "      <td>32000</td>\n",
              "      <td>128</td>\n",
              "      <td>24</td>\n",
              "      <td>32</td>\n",
              "      <td>405</td>\n",
              "      <td>382</td>\n",
              "    </tr>\n",
              "    <tr>\n",
              "      <th>sperry</th>\n",
              "      <td>1100/61-h1</td>\n",
              "      <td>116</td>\n",
              "      <td>2000</td>\n",
              "      <td>8000</td>\n",
              "      <td>32</td>\n",
              "      <td>5</td>\n",
              "      <td>28</td>\n",
              "      <td>70</td>\n",
              "      <td>56</td>\n",
              "    </tr>\n",
              "    <tr>\n",
              "      <th>sperry</th>\n",
              "      <td>1100/81</td>\n",
              "      <td>50</td>\n",
              "      <td>2000</td>\n",
              "      <td>32000</td>\n",
              "      <td>24</td>\n",
              "      <td>6</td>\n",
              "      <td>26</td>\n",
              "      <td>114</td>\n",
              "      <td>182</td>\n",
              "    </tr>\n",
              "    <tr>\n",
              "      <th>sperry</th>\n",
              "      <td>80/3</td>\n",
              "      <td>180</td>\n",
              "      <td>262</td>\n",
              "      <td>4000</td>\n",
              "      <td>0</td>\n",
              "      <td>1</td>\n",
              "      <td>3</td>\n",
              "      <td>12</td>\n",
              "      <td>24</td>\n",
              "    </tr>\n",
              "    <tr>\n",
              "      <th>sperry</th>\n",
              "      <td>80/4</td>\n",
              "      <td>180</td>\n",
              "      <td>512</td>\n",
              "      <td>4000</td>\n",
              "      <td>0</td>\n",
              "      <td>1</td>\n",
              "      <td>3</td>\n",
              "      <td>14</td>\n",
              "      <td>24</td>\n",
              "    </tr>\n",
              "    <tr>\n",
              "      <th>sperry</th>\n",
              "      <td>80/5</td>\n",
              "      <td>180</td>\n",
              "      <td>262</td>\n",
              "      <td>4000</td>\n",
              "      <td>0</td>\n",
              "      <td>1</td>\n",
              "      <td>3</td>\n",
              "      <td>18</td>\n",
              "      <td>24</td>\n",
              "    </tr>\n",
              "    <tr>\n",
              "      <th>sperry</th>\n",
              "      <td>80/6</td>\n",
              "      <td>180</td>\n",
              "      <td>512</td>\n",
              "      <td>4000</td>\n",
              "      <td>0</td>\n",
              "      <td>1</td>\n",
              "      <td>3</td>\n",
              "      <td>21</td>\n",
              "      <td>24</td>\n",
              "    </tr>\n",
              "    <tr>\n",
              "      <th>sperry</th>\n",
              "      <td>80/8</td>\n",
              "      <td>124</td>\n",
              "      <td>1000</td>\n",
              "      <td>8000</td>\n",
              "      <td>0</td>\n",
              "      <td>1</td>\n",
              "      <td>8</td>\n",
              "      <td>42</td>\n",
              "      <td>37</td>\n",
              "    </tr>\n",
              "    <tr>\n",
              "      <th>sperry</th>\n",
              "      <td>90/80-model-3</td>\n",
              "      <td>98</td>\n",
              "      <td>1000</td>\n",
              "      <td>8000</td>\n",
              "      <td>32</td>\n",
              "      <td>2</td>\n",
              "      <td>8</td>\n",
              "      <td>46</td>\n",
              "      <td>50</td>\n",
              "    </tr>\n",
              "    <tr>\n",
              "      <th>sratus</th>\n",
              "      <td>32</td>\n",
              "      <td>125</td>\n",
              "      <td>2000</td>\n",
              "      <td>8000</td>\n",
              "      <td>0</td>\n",
              "      <td>2</td>\n",
              "      <td>14</td>\n",
              "      <td>52</td>\n",
              "      <td>41</td>\n",
              "    </tr>\n",
              "    <tr>\n",
              "      <th>wang</th>\n",
              "      <td>vs-100</td>\n",
              "      <td>480</td>\n",
              "      <td>512</td>\n",
              "      <td>8000</td>\n",
              "      <td>32</td>\n",
              "      <td>0</td>\n",
              "      <td>0</td>\n",
              "      <td>67</td>\n",
              "      <td>47</td>\n",
              "    </tr>\n",
              "    <tr>\n",
              "      <th>wang</th>\n",
              "      <td>vs-90</td>\n",
              "      <td>480</td>\n",
              "      <td>1000</td>\n",
              "      <td>4000</td>\n",
              "      <td>0</td>\n",
              "      <td>0</td>\n",
              "      <td>0</td>\n",
              "      <td>45</td>\n",
              "      <td>25</td>\n",
              "    </tr>\n",
              "  </tbody>\n",
              "</table>\n",
              "<p>188 rows × 9 columns</p>\n",
              "</div>"
            ],
            "text/plain": [
              "                        model  MYCT  MMIN   MMAX  CACH  CHMIN  CHMAX  PRP  ERP\n",
              "amdahl                 470v/7    29  8000  32000    32      8     32  269  253\n",
              "amdahl                470v/7a    29  8000  32000    32      8     32  220  253\n",
              "amdahl                470v/7b    29  8000  32000    32      8     32  172  253\n",
              "amdahl                470v/7c    29  8000  16000    32      8     16  132  132\n",
              "amdahl                 470v/b    26  8000  32000    64      8     32  318  290\n",
              "apollo                  dn320   400  1000   3000     0      1      2   38   23\n",
              "apollo                  dn420   400   512   3500     4      1      6   40   24\n",
              "basf                     7/65    60  2000   8000    65      1      8   92   70\n",
              "basf                     7/68    50  4000  16000    65      1      8  138  117\n",
              "bti                      5000   350    64     64     0      1      4   10   15\n",
              "bti                      8000   200   512  16000     0      4     32   35   64\n",
              "burroughs               b1955   167   524   2000     8      4     15   19   23\n",
              "burroughs               b2900   143   512   5000     0      7     32   28   29\n",
              "burroughs               b2925   143  1000   2000     0      5     16   31   22\n",
              "burroughs               b4955   110  5000   5000   142      8     64  120  124\n",
              "burroughs               b5900   143  1500   6300     0      5     32   30   35\n",
              "burroughs               b5920   143  3100   6200     0      5     20   33   39\n",
              "burroughs               b6900   143  2300   6200     0      6     64   61   40\n",
              "burroughs               b6925   110  3100   6200     0      6     64   76   45\n",
              "c.r.d                68/10-80   320   128   6000     0      1     12   23   28\n",
              "c.r.d          universe:2203t   320   512   2000     4      1      3   69   21\n",
              "c.r.d             universe:68   320   256   6000     0      1      6   33   28\n",
              "c.r.d          universe:68/05   320   256   3000     4      1      3   27   22\n",
              "c.r.d         universe:68/137   320   512   5000     4      1      5   77   28\n",
              "c.r.d          universe:68/37   320   256   5000     4      1      6   27   27\n",
              "cdc             cyber:170/750    25  1310   2620   131     12     24  274  102\n",
              "cdc             cyber:170/760    25  1310   2620   131     12     24  368  102\n",
              "cdc             cyber:170/815    50  2620  10480    30     12     24   32   74\n",
              "cdc             cyber:170/825    50  2620  10480    30     12     24   63   74\n",
              "cdc             cyber:170/835    56  5240  20970    30     12     24  106  138\n",
              "...                       ...   ...   ...    ...   ...    ...    ...  ...  ...\n",
              "perkin-elmer             3210   250   512   4000     0      4      7   50   24\n",
              "perkin-elmer             3230   250  1000  16000     1      1      8   50   64\n",
              "prime                 50-2250   160   512   4000     2      1      5   30   25\n",
              "prime               50-250-ii   160   512   2000     2      3      8   32   20\n",
              "prime               50-550-ii   160  1000   4000     8      1     14   38   29\n",
              "prime               50-750-ii   160  1000   8000    16      1     14   60   43\n",
              "prime               50-850-ii   160  2000   8000    32      1     13  109   53\n",
              "siemens                 7.521   240   512   1000     8      1      3    6   19\n",
              "siemens                 7.531   240   512   2000     8      1      5   11   22\n",
              "siemens                 7.536   105  2000   4000     8      3      8   22   31\n",
              "siemens                 7.541   105  2000   6000    16      6     16   33   41\n",
              "siemens                 7.551   105  2000   8000    16      4     14   58   47\n",
              "siemens                 7.561    52  4000  16000    32      4     12  130   99\n",
              "siemens               7.865-2    70  4000  12000     8      6      8   75   67\n",
              "siemens               7.870-2    59  4000  12000    32      6     12  113   81\n",
              "siemens               7.872-2    59  8000  16000    64     12     24  188  149\n",
              "siemens               7.875-2    26  8000  24000    32      8     16  173  183\n",
              "siemens               7.880-2    26  8000  32000    64     12     16  248  275\n",
              "siemens               7.881-2    26  8000  32000   128     24     32  405  382\n",
              "sperry             1100/61-h1   116  2000   8000    32      5     28   70   56\n",
              "sperry                1100/81    50  2000  32000    24      6     26  114  182\n",
              "sperry                   80/3   180   262   4000     0      1      3   12   24\n",
              "sperry                   80/4   180   512   4000     0      1      3   14   24\n",
              "sperry                   80/5   180   262   4000     0      1      3   18   24\n",
              "sperry                   80/6   180   512   4000     0      1      3   21   24\n",
              "sperry                   80/8   124  1000   8000     0      1      8   42   37\n",
              "sperry          90/80-model-3    98  1000   8000    32      2      8   46   50\n",
              "sratus                     32   125  2000   8000     0      2     14   52   41\n",
              "wang                   vs-100   480   512   8000    32      0      0   67   47\n",
              "wang                    vs-90   480  1000   4000     0      0      0   45   25\n",
              "\n",
              "[188 rows x 9 columns]"
            ]
          },
          "metadata": {
            "tags": []
          },
          "execution_count": 30
        }
      ]
    },
    {
      "metadata": {
        "id": "mzjx5FNXEG4j",
        "colab_type": "code",
        "colab": {}
      },
      "cell_type": "code",
      "source": [
        "x1 = data_1.drop(['ERP','CHMIN','model'],axis=1)\n",
        "y1 = data_1['ERP']"
      ],
      "execution_count": 0,
      "outputs": []
    },
    {
      "metadata": {
        "id": "-Et3HzxmD4dk",
        "colab_type": "code",
        "outputId": "cc7d12c0-0ca6-418b-ed77-bbecd4728bf2",
        "colab": {
          "base_uri": "https://localhost:8080/",
          "height": 51
        }
      },
      "cell_type": "code",
      "source": [
        "lr1 = LinearRegression()\n",
        "lr1.fit(x1,y1)"
      ],
      "execution_count": 0,
      "outputs": [
        {
          "output_type": "execute_result",
          "data": {
            "text/plain": [
              "LinearRegression(copy_X=True, fit_intercept=True, n_jobs=None,\n",
              "         normalize=False)"
            ]
          },
          "metadata": {
            "tags": []
          },
          "execution_count": 137
        }
      ]
    },
    {
      "metadata": {
        "id": "YJcHCG5ZEAWW",
        "colab_type": "code",
        "colab": {}
      },
      "cell_type": "code",
      "source": [
        "pred_y1 = lr1.predict(x1)"
      ],
      "execution_count": 0,
      "outputs": []
    },
    {
      "metadata": {
        "id": "4ScFziQZEDl3",
        "colab_type": "code",
        "colab": {}
      },
      "cell_type": "code",
      "source": [
        "residual_1 = pred_y1 - y1"
      ],
      "execution_count": 0,
      "outputs": []
    },
    {
      "metadata": {
        "id": "H1IFf3W3EE9A",
        "colab_type": "code",
        "outputId": "2e552766-fe43-4e98-99b2-4fd5676e727e",
        "colab": {
          "base_uri": "https://localhost:8080/",
          "height": 376
        }
      },
      "cell_type": "code",
      "source": [
        "stats.probplot(residual_1,dist='norm',plot=pylab)\n",
        "stats.probplot(residual,dist='norm',plot=pylab,)# Normality\n",
        "pylab.show()"
      ],
      "execution_count": 0,
      "outputs": [
        {
          "output_type": "display_data",
          "data": {
            "image/png": "[encoded data removed]",
            "text/plain": [
              "<Figure size 576x396 with 1 Axes>"
            ]
          },
          "metadata": {
            "tags": []
          }
        }
      ]
    },
    {
      "metadata": {
        "id": "ocyqRWHzEuHy",
        "colab_type": "code",
        "outputId": "21ef410c-a672-43e7-ab22-34997c973a22",
        "colab": {
          "base_uri": "https://localhost:8080/",
          "height": 34
        }
      },
      "cell_type": "code",
      "source": [
        "stats.shapiro(residual_1)"
      ],
      "execution_count": 0,
      "outputs": [
        {
          "output_type": "execute_result",
          "data": {
            "text/plain": [
              "(0.8965590596199036, 3.8006056635175867e-10)"
            ]
          },
          "metadata": {
            "tags": []
          },
          "execution_count": 144
        }
      ]
    },
    {
      "metadata": {
        "id": "_9Q7OwMKFIKI",
        "colab_type": "code",
        "outputId": "22c2d6dc-c11f-4965-fcec-0f703116a60c",
        "colab": {
          "base_uri": "https://localhost:8080/",
          "height": 297
        }
      },
      "cell_type": "code",
      "source": [
        "data.corr()"
      ],
      "execution_count": 0,
      "outputs": [
        {
          "output_type": "execute_result",
          "data": {
            "text/html": [
              "<div>\n",
              "<style scoped>\n",
              "    .dataframe tbody tr th:only-of-type {\n",
              "        vertical-align: middle;\n",
              "    }\n",
              "\n",
              "    .dataframe tbody tr th {\n",
              "        vertical-align: top;\n",
              "    }\n",
              "\n",
              "    .dataframe thead th {\n",
              "        text-align: right;\n",
              "    }\n",
              "</style>\n",
              "<table border=\"1\" class=\"dataframe\">\n",
              "  <thead>\n",
              "    <tr style=\"text-align: right;\">\n",
              "      <th></th>\n",
              "      <th>MYCT</th>\n",
              "      <th>MMIN</th>\n",
              "      <th>MMAX</th>\n",
              "      <th>CACH</th>\n",
              "      <th>CHMIN</th>\n",
              "      <th>CHMAX</th>\n",
              "      <th>PRP</th>\n",
              "      <th>ERP</th>\n",
              "    </tr>\n",
              "  </thead>\n",
              "  <tbody>\n",
              "    <tr>\n",
              "      <th>MYCT</th>\n",
              "      <td>1.000000</td>\n",
              "      <td>-0.335642</td>\n",
              "      <td>-0.378561</td>\n",
              "      <td>-0.321000</td>\n",
              "      <td>-0.301090</td>\n",
              "      <td>-0.250502</td>\n",
              "      <td>-0.307099</td>\n",
              "      <td>-0.288396</td>\n",
              "    </tr>\n",
              "    <tr>\n",
              "      <th>MMIN</th>\n",
              "      <td>-0.335642</td>\n",
              "      <td>1.000000</td>\n",
              "      <td>0.758157</td>\n",
              "      <td>0.534729</td>\n",
              "      <td>0.517189</td>\n",
              "      <td>0.266907</td>\n",
              "      <td>0.794931</td>\n",
              "      <td>0.819292</td>\n",
              "    </tr>\n",
              "    <tr>\n",
              "      <th>MMAX</th>\n",
              "      <td>-0.378561</td>\n",
              "      <td>0.758157</td>\n",
              "      <td>1.000000</td>\n",
              "      <td>0.537990</td>\n",
              "      <td>0.560513</td>\n",
              "      <td>0.527246</td>\n",
              "      <td>0.863004</td>\n",
              "      <td>0.901202</td>\n",
              "    </tr>\n",
              "    <tr>\n",
              "      <th>CACH</th>\n",
              "      <td>-0.321000</td>\n",
              "      <td>0.534729</td>\n",
              "      <td>0.537990</td>\n",
              "      <td>1.000000</td>\n",
              "      <td>0.582245</td>\n",
              "      <td>0.487846</td>\n",
              "      <td>0.662641</td>\n",
              "      <td>0.648620</td>\n",
              "    </tr>\n",
              "    <tr>\n",
              "      <th>CHMIN</th>\n",
              "      <td>-0.301090</td>\n",
              "      <td>0.517189</td>\n",
              "      <td>0.560513</td>\n",
              "      <td>0.582245</td>\n",
              "      <td>1.000000</td>\n",
              "      <td>0.548281</td>\n",
              "      <td>0.608903</td>\n",
              "      <td>0.610580</td>\n",
              "    </tr>\n",
              "    <tr>\n",
              "      <th>CHMAX</th>\n",
              "      <td>-0.250502</td>\n",
              "      <td>0.266907</td>\n",
              "      <td>0.527246</td>\n",
              "      <td>0.487846</td>\n",
              "      <td>0.548281</td>\n",
              "      <td>1.000000</td>\n",
              "      <td>0.605209</td>\n",
              "      <td>0.592156</td>\n",
              "    </tr>\n",
              "    <tr>\n",
              "      <th>PRP</th>\n",
              "      <td>-0.307099</td>\n",
              "      <td>0.794931</td>\n",
              "      <td>0.863004</td>\n",
              "      <td>0.662641</td>\n",
              "      <td>0.608903</td>\n",
              "      <td>0.605209</td>\n",
              "      <td>1.000000</td>\n",
              "      <td>0.966472</td>\n",
              "    </tr>\n",
              "    <tr>\n",
              "      <th>ERP</th>\n",
              "      <td>-0.288396</td>\n",
              "      <td>0.819292</td>\n",
              "      <td>0.901202</td>\n",
              "      <td>0.648620</td>\n",
              "      <td>0.610580</td>\n",
              "      <td>0.592156</td>\n",
              "      <td>0.966472</td>\n",
              "      <td>1.000000</td>\n",
              "    </tr>\n",
              "  </tbody>\n",
              "</table>\n",
              "</div>"
            ],
            "text/plain": [
              "           MYCT      MMIN      MMAX      CACH     CHMIN     CHMAX       PRP  \\\n",
              "MYCT   1.000000 -0.335642 -0.378561 -0.321000 -0.301090 -0.250502 -0.307099   \n",
              "MMIN  -0.335642  1.000000  0.758157  0.534729  0.517189  0.266907  0.794931   \n",
              "MMAX  -0.378561  0.758157  1.000000  0.537990  0.560513  0.527246  0.863004   \n",
              "CACH  -0.321000  0.534729  0.537990  1.000000  0.582245  0.487846  0.662641   \n",
              "CHMIN -0.301090  0.517189  0.560513  0.582245  1.000000  0.548281  0.608903   \n",
              "CHMAX -0.250502  0.266907  0.527246  0.487846  0.548281  1.000000  0.605209   \n",
              "PRP   -0.307099  0.794931  0.863004  0.662641  0.608903  0.605209  1.000000   \n",
              "ERP   -0.288396  0.819292  0.901202  0.648620  0.610580  0.592156  0.966472   \n",
              "\n",
              "            ERP  \n",
              "MYCT  -0.288396  \n",
              "MMIN   0.819292  \n",
              "MMAX   0.901202  \n",
              "CACH   0.648620  \n",
              "CHMIN  0.610580  \n",
              "CHMAX  0.592156  \n",
              "PRP    0.966472  \n",
              "ERP    1.000000  "
            ]
          },
          "metadata": {
            "tags": []
          },
          "execution_count": 146
        }
      ]
    },
    {
      "metadata": {
        "id": "m1TdG9IeQ0fu",
        "colab_type": "code",
        "colab": {}
      },
      "cell_type": "code",
      "source": [
        ""
      ],
      "execution_count": 0,
      "outputs": []
    }
  ]
}